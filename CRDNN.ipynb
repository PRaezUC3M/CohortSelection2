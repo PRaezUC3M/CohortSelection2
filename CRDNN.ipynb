{
  "nbformat": 4,
  "nbformat_minor": 0,
  "metadata": {
    "colab": {
      "name": "CRDNN.ipynb",
      "version": "0.3.2",
      "provenance": [],
      "collapsed_sections": [],
      "include_colab_link": true
    },
    "kernelspec": {
      "name": "python3",
      "display_name": "Python 3"
    },
    "accelerator": "GPU"
  },
  "cells": [
    {
      "cell_type": "markdown",
      "metadata": {
        "id": "view-in-github",
        "colab_type": "text"
      },
      "source": [
        "<a href=\"https://colab.research.google.com/github/PRaezUC3M/CohortSelection2/blob/master/CRDNN.ipynb\" target=\"_parent\"><img src=\"https://colab.research.google.com/assets/colab-badge.svg\" alt=\"Open In Colab\"/></a>"
      ]
    },
    {
      "metadata": {
        "colab_type": "code",
        "id": "TQR9Sn1usb-x",
        "outputId": "d35899eb-5a24-4209-8913-ebce44d5b6a5",
        "colab": {
          "base_uri": "https://localhost:8080/",
          "height": 34
        }
      },
      "cell_type": "code",
      "source": [
        "  from google.colab import drive\n",
        "drive.mount('/content/drive')"
      ],
      "execution_count": 1,
      "outputs": [
        {
          "output_type": "stream",
          "text": [
            "Drive already mounted at /content/drive; to attempt to forcibly remount, call drive.mount(\"/content/drive\", force_remount=True).\n"
          ],
          "name": "stdout"
        }
      ]
    },
    {
      "metadata": {
        "colab_type": "code",
        "id": "GvstijeTsb-6",
        "colab": {}
      },
      "cell_type": "code",
      "source": [
        "import numpy as np\n",
        "import tensorflow as tf\n",
        "\n",
        "np.random.seed(1)\n",
        "tf.set_random_seed(2)"
      ],
      "execution_count": 0,
      "outputs": []
    },
    {
      "metadata": {
        "id": "vluB44afpEHL",
        "colab_type": "text"
      },
      "cell_type": "markdown",
      "source": [
        "# **Configurartion of the experiments**\n",
        "The different possible experiments have been automated. It is inspired in grid-search, and the parameters must be expressed in array-like style. You can find an example below.\n",
        "\n",
        "Every possible example will be generated from the combination of the different parameters given."
      ]
    },
    {
      "metadata": {
        "id": "AdJIJMn1pbCa",
        "colab_type": "code",
        "colab": {}
      },
      "cell_type": "code",
      "source": [
        "tfidf = [False, True]\n",
        "load_embeddings = [True]\n",
        "num_classes = [None]\n",
        "embeddings_size = [None]\n",
        "trainable_embeddings = [False]\n",
        "cnn_size = [[None]]\n",
        "cnn_filter = [[3]]\n",
        "rnn_size = [[64, 64]]\n",
        "cell_type = [\"GRU\"]\n",
        "bidirectional = [True]\n",
        "attention = [True]\n",
        "dropout = [0.3]\n",
        "dnn_size = [[32]]\n",
        "batch_size = [None]\n",
        "\"\"\"tfidf_False_load_embeddings_True_num_classes_13_embeddings_size_200_rnn_size_64_cell_type_GRU_bidirectional_True_attention_True_dropout_0.3_dnn_size_32_batch_size_None\"\"\"\n",
        "\n",
        "indexes = [\"tfidf\", \"load_embeddings\", \"num_classes\", \"embeddings_size\", \"trainable_embeddings\", \"cnn_size\", \"cnn_filter\", \"rnn_size\", \"cell_type\", \"bidirectional\", \"attention\", \"dropout\", \"dnn_size\", \"batch_size\"]\n",
        "param   = [tfidf, load_embeddings, num_classes, embeddings_size, trainable_embeddings, cnn_size, cnn_filter, rnn_size, cell_type, bidirectional, attention, dropout, dnn_size, batch_size]"
      ],
      "execution_count": 0,
      "outputs": []
    },
    {
      "metadata": {
        "id": "b65TBRSg3wep",
        "colab_type": "code",
        "colab": {}
      },
      "cell_type": "code",
      "source": [
        "import itertools\n",
        "\n",
        "def combine_params(param, indexes):\n",
        "  \"\"\"\n",
        "  This function is in charge of combining the parameters. This way we can perform a grid search automatically.\n",
        "  \n",
        "  Inputs: The array of different parameters, and the indexes for them.\n",
        "  \n",
        "  Outputs: The dictionary of different configurations made.\n",
        "  \"\"\"\n",
        "  combinations = list(itertools.product(*param))\n",
        "  param_combinations = [{k:v for k, v in zip(indexes, combination)}  for combination in combinations]\n",
        "  for p in param_combinations:\n",
        "    # The embeddings size must adapt to the embeddings loaded.\n",
        "    if p[\"load_embeddings\"]:\n",
        "      p[\"embeddings_size\"] = None\n",
        "  return param_combinations"
      ],
      "execution_count": 0,
      "outputs": []
    },
    {
      "metadata": {
        "id": "N-nFuYPyy8eW",
        "colab_type": "code",
        "outputId": "858f8289-e0a0-4b90-d2df-4549b64d96df",
        "colab": {
          "base_uri": "https://localhost:8080/",
          "height": 493
        }
      },
      "cell_type": "code",
      "source": [
        "# Combine the parameters and check their correctness\n",
        "network_parameters = combine_params(param, indexes)\n",
        "network_parameters"
      ],
      "execution_count": 5,
      "outputs": [
        {
          "output_type": "execute_result",
          "data": {
            "text/plain": [
              "[{'attention': True,\n",
              "  'batch_size': None,\n",
              "  'bidirectional': True,\n",
              "  'cell_type': 'GRU',\n",
              "  'cnn_filter': [3],\n",
              "  'cnn_size': [None],\n",
              "  'dnn_size': [32],\n",
              "  'dropout': 0.3,\n",
              "  'embeddings_size': None,\n",
              "  'load_embeddings': True,\n",
              "  'num_classes': None,\n",
              "  'rnn_size': [64, 64],\n",
              "  'tfidf': False,\n",
              "  'trainable_embeddings': False},\n",
              " {'attention': True,\n",
              "  'batch_size': None,\n",
              "  'bidirectional': True,\n",
              "  'cell_type': 'GRU',\n",
              "  'cnn_filter': [3],\n",
              "  'cnn_size': [None],\n",
              "  'dnn_size': [32],\n",
              "  'dropout': 0.3,\n",
              "  'embeddings_size': None,\n",
              "  'load_embeddings': True,\n",
              "  'num_classes': None,\n",
              "  'rnn_size': [64, 64],\n",
              "  'tfidf': True,\n",
              "  'trainable_embeddings': False}]"
            ]
          },
          "metadata": {
            "tags": []
          },
          "execution_count": 5
        }
      ]
    },
    {
      "metadata": {
        "colab_type": "text",
        "id": "-U6xgKq_sb_B"
      },
      "cell_type": "markdown",
      "source": [
        "# **Load the train and test csv files**\n",
        "This functions load the data and generate the different datasets from the given csv files. "
      ]
    },
    {
      "metadata": {
        "colab_type": "code",
        "id": "UruHey_Zsb_C",
        "outputId": "b5a32677-9b74-49bf-ead7-9123cf60cf14",
        "colab": {
          "base_uri": "https://localhost:8080/",
          "height": 51
        }
      },
      "cell_type": "code",
      "source": [
        "import pandas as pd\n",
        "import numpy as np\n",
        "\n",
        "SST_HOME='drive/My Drive/Colab Notebooks/CohortSelection2/'\n",
        "path_train=SST_HOME+'data/train/train.csv'\n",
        "path_test=SST_HOME+'data/test/test.csv'\n",
        "\n",
        "def load(path):\n",
        "  \"\"\"\n",
        "  This funcion is in charge of loading the data and generate the different datasets from it.\n",
        "  \n",
        "  Inputs: The path where te different CSVs are located.\n",
        "  Outputs: X, Y, categories and files. Which are used for the input and outputs of the system.\n",
        "  \"\"\"\n",
        "  df = pd.read_csv(path,header=0, delimiter=\"\\t\", quoting=3)\n",
        "\n",
        "  categories=df.columns[2:]\n",
        "  idFiles = df[['IDFILE']].as_matrix().tolist()\n",
        "\n",
        "  texts = df[['TEXT']].as_matrix()\n",
        "  X = [x[0].strip() for x in texts.tolist()]\n",
        "\n",
        "  #we only keep the columns with the categories.\n",
        "  Y = df.drop(['IDFILE', 'TEXT'], axis=1).as_matrix()\n",
        "\n",
        "\n",
        "  print(path,'dataset loaded')\n",
        "  \n",
        "  return X, Y, categories, idFiles\n",
        "\n",
        "\n",
        "train_x, train_y, CATEGORIES, _ = load(path_train)\n",
        "test_x, test_y, _, IDFILES = load(path_test)"
      ],
      "execution_count": 6,
      "outputs": [
        {
          "output_type": "stream",
          "text": [
            "drive/My Drive/Colab Notebooks/CohortSelection2/data/train/train.csv dataset loaded\n",
            "drive/My Drive/Colab Notebooks/CohortSelection2/data/test/test.csv dataset loaded\n"
          ],
          "name": "stdout"
        }
      ]
    },
    {
      "metadata": {
        "id": "VvG0svi8QAER",
        "colab_type": "code",
        "colab": {}
      },
      "cell_type": "code",
      "source": [
        "# We change the number of classes automatically\n",
        "for p in network_parameters:\n",
        "  p[\"num_classes\"] = train_y.shape[1]"
      ],
      "execution_count": 0,
      "outputs": []
    },
    {
      "metadata": {
        "colab_type": "text",
        "id": "zswqSRmTqM2A"
      },
      "cell_type": "markdown",
      "source": [
        "#**Balancing the categories**\n",
        "We can see that there are some categories way more present than others in our dataset. Let's sort them."
      ]
    },
    {
      "metadata": {
        "id": "OXBDCgcT8c5Y",
        "colab_type": "text"
      },
      "cell_type": "markdown",
      "source": [
        "The categories are distributed in the following way\n"
      ]
    },
    {
      "metadata": {
        "id": "R9zxnXt38hO-",
        "colab_type": "code",
        "outputId": "3b684de8-a48e-4a12-e563-06c55de96e89",
        "colab": {
          "base_uri": "https://localhost:8080/",
          "height": 563
        }
      },
      "cell_type": "code",
      "source": [
        "import matplotlib.pyplot as plt\n",
        "import seaborn as sns  \n",
        "\n",
        "fig = plt.figure(figsize=(20,8))\n",
        "(ax_train, ax_test) = fig.subplots(ncols=2, nrows=1)\n",
        "g1 = sns.barplot(x=train_y.sum(axis=0), y=CATEGORIES, ax=ax_train)\n",
        "ax_train.set_xlabel('Number of records')\n",
        "g2 = sns.barplot(x=test_y.sum(axis=0), y=CATEGORIES, ax=ax_test)\n",
        "ax_test.set_xlabel('Number of records')\n",
        "g1.set_title(\"Criteria distribution on training dataset\")\n",
        "g2.set_title(\"Criteria distribution on testing dataset\")"
      ],
      "execution_count": 8,
      "outputs": [
        {
          "output_type": "stream",
          "text": [
            "/usr/local/lib/python3.6/dist-packages/seaborn/categorical.py:1428: FutureWarning: remove_na is deprecated and is a private function. Do not use.\n",
            "  stat_data = remove_na(group_data)\n"
          ],
          "name": "stderr"
        },
        {
          "output_type": "execute_result",
          "data": {
            "text/plain": [
              "Text(0.5, 1.0, 'Criteria distribution on testing dataset')"
            ]
          },
          "metadata": {
            "tags": []
          },
          "execution_count": 8
        },
        {
          "output_type": "display_data",
          "data": {
            "image/png": "[encoded data removed]",
            "text/plain": [
              "<Figure size 1440x576 with 2 Axes>"
            ]
          },
          "metadata": {
            "tags": []
          }
        }
      ]
    },
    {
      "metadata": {
        "colab_type": "text",
        "id": "7Bfd-GpbqM2G"
      },
      "cell_type": "markdown",
      "source": [
        "Now we can see the differences in a easier way, we will add weights to the different classes, based on how present they are in the dataset."
      ]
    },
    {
      "metadata": {
        "id": "FJnszGB7n4mI",
        "colab_type": "code",
        "colab": {}
      },
      "cell_type": "code",
      "source": [
        "# predictions_list[0][0]"
      ],
      "execution_count": 0,
      "outputs": []
    },
    {
      "metadata": {
        "colab_type": "code",
        "id": "wQaO6I_tqM2H",
        "colab": {}
      },
      "cell_type": "code",
      "source": [
        "# This calculates the weight which will be assigned to the classes when training.\n",
        "classes = np.add(sum(train_y), sum(test_y))\n",
        "total_cases = sum(classes)\n",
        "class_weight = [1 / (c/total_cases) for c in classes]\n",
        "class_weight = [float(i)/max(class_weight) for i in class_weight]"
      ],
      "execution_count": 0,
      "outputs": []
    },
    {
      "metadata": {
        "id": "nl8hYBFmos3m",
        "colab_type": "code",
        "outputId": "d8e0895b-e2f4-4768-c6e9-bbc83456becd",
        "colab": {
          "base_uri": "https://localhost:8080/",
          "height": 238
        }
      },
      "cell_type": "code",
      "source": [
        "class_weight"
      ],
      "execution_count": 11,
      "outputs": [
        {
          "output_type": "execute_result",
          "data": {
            "text/plain": [
              "[0.005405405405405405,\n",
              " 0.011363636363636364,\n",
              " 0.008264462809917356,\n",
              " 0.007092198581560284,\n",
              " 1.0,\n",
              " 0.007751937984496123,\n",
              " 0.012987012987012986,\n",
              " 0.0045045045045045045,\n",
              " 0.125,\n",
              " 0.004566210045662101,\n",
              " 0.07142857142857142,\n",
              " 0.01098901098901099,\n",
              " 0.049999999999999996]"
            ]
          },
          "metadata": {
            "tags": []
          },
          "execution_count": 11
        }
      ]
    },
    {
      "metadata": {
        "id": "JmZObCAQnw-4",
        "colab_type": "code",
        "colab": {}
      },
      "cell_type": "code",
      "source": [
        "# classes"
      ],
      "execution_count": 0,
      "outputs": []
    },
    {
      "metadata": {
        "colab_type": "text",
        "id": "Pvixevcqsb_Z"
      },
      "cell_type": "markdown",
      "source": [
        "# **Tokenize the dataset and use the word embeddings**\n",
        "\n",
        "This shows the set of different words ordered by frequency. *tokenizer.word_index*\n",
        "\n",
        "The text is tokenized and cleaned of stop-words as well as punctuation signs. Also the numbers are substituted by a token \"nmbr\"\n",
        "\n",
        "We crop the beggining of the examples because it is the date when they\n",
        "were written down.\n",
        "\n",
        "Finally, and after being tokenized, the different sentences are padded to match the maximum length.\n",
        "\n",
        "max_length == 7813 it is really a huge vector because we have to pad\n",
        "it afterwards, in order to get it into the CNN"
      ]
    },
    {
      "metadata": {
        "colab_type": "code",
        "id": "t3ntmzICsb_a",
        "outputId": "251fa9b1-3140-45e8-b41e-fb0ca0c5b325",
        "colab": {
          "base_uri": "https://localhost:8080/",
          "height": 68
        }
      },
      "cell_type": "code",
      "source": [
        "from keras.preprocessing.text import Tokenizer\n",
        "from keras.preprocessing.sequence import pad_sequences\n",
        "from sklearn.feature_extraction.text import TfidfVectorizer\n",
        "\n",
        "import nltk\n",
        "from nltk.corpus import stopwords\n",
        "nltk.download('stopwords')\n",
        "stop_words=stopwords.words('english')\n",
        "# Define maximum vocabulary length\n",
        "MAX_WORDS = 5000\n",
        "# Defined from the dataset itself. This is used to crop the date from the text.\n",
        "DATE_LENGTH = 23"
      ],
      "execution_count": 13,
      "outputs": [
        {
          "output_type": "stream",
          "text": [
            "Using TensorFlow backend.\n"
          ],
          "name": "stderr"
        },
        {
          "output_type": "stream",
          "text": [
            "[nltk_data] Downloading package stopwords to /root/nltk_data...\n",
            "[nltk_data]   Package stopwords is already up-to-date!\n"
          ],
          "name": "stdout"
        }
      ]
    },
    {
      "metadata": {
        "colab_type": "code",
        "id": "lV3LXEEgsb_h",
        "colab": {}
      },
      "cell_type": "code",
      "source": [
        "# We are using this function to clean the test set\n",
        "def tokenize_clean_text(text, tfidf, tokenizer=None, max_length=None, max_words=MAX_WORDS, date_length=DATE_LENGTH):\n",
        "  \"\"\"\n",
        "  This function is in charge of tokenizing the text it is given. It also cleans\n",
        "  the text from stop-words, punctuation, and gives a special token to numbers.\n",
        "  \n",
        "  :param text: The texts to tokenize in a bidimensional python array.\n",
        "  \n",
        "  :returns: The tokenized and cleaned text in a bidimensional python array.\n",
        "            The tokenizer used to preprocess the text.\n",
        "            The maximum length used for padding.\n",
        "  \"\"\"   \n",
        "  # Consider to stemm or lemmatize the text \n",
        "  \n",
        "  cropped_date_text = [sentence[date_length:] for sentence in text]\n",
        "    \n",
        "  # We remove the numbers\n",
        "  cropped_date_numbers_text = [\" \".join([word if not word.isdigit() else \"\"\n",
        "                                for word in sentence.split()])\n",
        "                               for sentence in cropped_date_text]\n",
        "  \n",
        "  # Delete stopwords as well as every word less than 3 chars.\n",
        "  cropped_date_numbers_stopw_text = [\" \".join([word if not (word in stop_words or len(word) <= 3) else \"\"\n",
        "                                      for word in sentence.split()])\n",
        "                                     for sentence in cropped_date_numbers_text]\n",
        "  \n",
        "  if tfidf:\n",
        "    vec = TfidfVectorizer(max_features=max_words)\n",
        "    tfidf_mat = vec.fit_transform(cropped_date_numbers_stopw_text).toarray()\n",
        "    tfid_words = vec.get_feature_names()\n",
        "\n",
        "    cropped_date_numbers_stopw_tfidf_text = [\" \".join([word if word in tfid_words else \"\"\n",
        "                                            for word in sentence.split()])\n",
        "                                            for sentence in cropped_date_numbers_stopw_text]\n",
        "\n",
        "    \n",
        "  \n",
        "  if tokenizer is None:\n",
        "    tokenizer = Tokenizer(num_words=max_words) # They use 5k words too\n",
        "    tokenizer.fit_on_texts(cropped_date_numbers_stopw_tfidf_text if tfidf else cropped_date_numbers_stopw_text)\n",
        "  # We tokenize the sentences\n",
        "  tokenized_text = tokenizer.texts_to_sequences(cropped_date_numbers_stopw_tfidf_text if tfidf else cropped_date_numbers_stopw_text)\n",
        "  \n",
        "  if max_length == None:\n",
        "    max_length = 0\n",
        "    for sentence in tokenized_text:\n",
        "      max_length = max_length if len(sentence) < max_length else len(sentence)\n",
        "  \n",
        "  # Now we return the padded the sequences.\n",
        "  return pad_sequences(tokenized_text, max_length), tokenizer, max_length, cropped_date_numbers_stopw_tfidf_text if tfidf else cropped_date_numbers_stopw_text\n",
        "  "
      ],
      "execution_count": 0,
      "outputs": []
    },
    {
      "metadata": {
        "colab_type": "text",
        "id": "aTQ39hlAqM2d"
      },
      "cell_type": "markdown",
      "source": [
        "# Net Input\n",
        "\n",
        "Here we take a maximum length of file by obtaining the accumulative density distribution of the training examples. This way we can see how many examples fall under certain threshold. Which will be fixed to 80% of the total examples. This length is 5000 words roughly."
      ]
    },
    {
      "metadata": {
        "id": "JEszPNw7n2si",
        "colab_type": "code",
        "outputId": "d76294c0-17c7-41f3-a7f9-4da2df1a4f29",
        "colab": {
          "base_uri": "https://localhost:8080/",
          "height": 707
        }
      },
      "cell_type": "code",
      "source": [
        "for p in network_parameters:\n",
        "  p[\"max_words\"] = MAX_WORDS\n",
        "  \n",
        "if any([p[\"tfidf\"] for p in network_parameters]):\n",
        "  train_x_token_tfidf, tokenizer_tfidf, max_length, tfidf_text = tokenize_clean_text(train_x, tfidf=True)\n",
        "  \n",
        "  test_x_token_tfidf, _, _, _ = tokenize_clean_text(test_x, tfidf=True, tokenizer=tokenizer_tfidf, max_length=max_length)\n",
        "  \n",
        "    \n",
        "  for p in network_parameters:\n",
        "    if p[\"tfidf\"]:\n",
        "      if len(tokenizer_tfidf.word_index) < MAX_WORDS:\n",
        "        p[\"max_words\"] = len(tokenizer_tfidf.word_index)\n",
        "\n",
        "      p[\"max_length\"] = max_length\n",
        "\n",
        "  lenghts = [len(sentence[DATE_LENGTH:].split(\" \")) for sentence in tfidf_text]\n",
        "  plt.hist(lenghts, cumulative=True, color='r')\n",
        "  plt.title(\"TFIDF text\")\n",
        "  plt.show()\n",
        "  \n",
        "if any([not p[\"tfidf\"] for p in network_parameters]):\n",
        "  train_x_token, tokenizer, max_length, clean_text = tokenize_clean_text(train_x, tfidf=False)\n",
        "  \n",
        "  test_x_token, _, _, _ = tokenize_clean_text(test_x, tfidf=False, tokenizer=tokenizer, max_length=max_length)\n",
        "  \n",
        "  for p in network_parameters:\n",
        "    if not p[\"tfidf\"]:\n",
        "      if len(tokenizer.word_index) < MAX_WORDS:\n",
        "        p[\"max_words\"] = len(tokenizer_tfidf.word_index)\n",
        "\n",
        "      p[\"max_length\"] = max_length\n",
        "\n",
        "  lenghts = [len(sentence[DATE_LENGTH:].split(\" \")) for sentence in clean_text]\n",
        "  plt.hist(lenghts, cumulative=True, color='b')\n",
        "  plt.title(\"Not TFIDF text\")\n",
        "  plt.show()"
      ],
      "execution_count": 15,
      "outputs": [
        {
          "output_type": "display_data",
          "data": {
            "image/png": "[encoded data removed]",
            "text/plain": [
              "<Figure size 576x396 with 1 Axes>"
            ]
          },
          "metadata": {
            "tags": []
          }
        },
        {
          "output_type": "display_data",
          "data": {
            "image/png": "[encoded data removed]",
            "text/plain": [
              "<Figure size 576x396 with 1 Axes>"
            ]
          },
          "metadata": {
            "tags": []
          }
        }
      ]
    },
    {
      "metadata": {
        "colab_type": "text",
        "id": "t_XzzFpUqM2o"
      },
      "cell_type": "markdown",
      "source": [
        "# **TensorBoard**\n",
        "TensorBoard is a great tool for DL visualization. It shows the evolution of metrics during the training phase, as well as the weights, distributions, and even the graph of the neural net. \n",
        "\n",
        "We will be using tensorboardcolab in order to run a \n",
        "TensorBoard instance. This will initialize a ngrok machine and launch TensorBoard for us to see. \n",
        "\n",
        "TensorBoard will be accesible by the url "
      ]
    },
    {
      "metadata": {
        "colab_type": "code",
        "id": "Sbcq5gOMqM2p",
        "outputId": "5ef694b9-e6d8-47d9-f063-c55776a8229b",
        "colab": {
          "base_uri": "https://localhost:8080/",
          "height": 34
        }
      },
      "cell_type": "code",
      "source": [
        "# We install tensorboard colab in case we don't have it already.\n",
        "!pip install tensorboardcolab"
      ],
      "execution_count": 16,
      "outputs": [
        {
          "output_type": "stream",
          "text": [
            "Requirement already satisfied: tensorboardcolab in /usr/local/lib/python3.6/dist-packages (0.0.22)\n"
          ],
          "name": "stdout"
        }
      ]
    },
    {
      "metadata": {
        "colab_type": "code",
        "id": "79ivurQUqM2t",
        "outputId": "f059bfa5-5b0a-4df9-e607-a98ab509b8e0",
        "colab": {
          "base_uri": "https://localhost:8080/",
          "height": 68
        }
      },
      "cell_type": "code",
      "source": [
        "import tensorboardcolab as tb\n",
        "\n",
        "tbc=tb.TensorBoardColab()"
      ],
      "execution_count": 17,
      "outputs": [
        {
          "output_type": "stream",
          "text": [
            "Wait for 8 seconds...\n",
            "TensorBoard link:\n",
            "http://598d45c6.ngrok.io\n"
          ],
          "name": "stdout"
        }
      ]
    },
    {
      "metadata": {
        "colab_type": "text",
        "id": "Gyam03X6qM2x"
      },
      "cell_type": "markdown",
      "source": [
        "# Load the embeddings\n",
        "\n",
        "In this step, we load the word embeddings from the wikipedia, pubmed and PMC. Then we filter them adapting to the words we have in our dataset. This is, if the word appears in the pubmed we take its weights, which are set to 0 otherwise."
      ]
    },
    {
      "metadata": {
        "colab_type": "code",
        "id": "SJO1m5MwqM2y",
        "outputId": "1b4f8fa6-d6d2-4006-da36-c37b40e42028",
        "colab": {
          "base_uri": "https://localhost:8080/",
          "height": 323
        }
      },
      "cell_type": "code",
      "source": [
        "# seemingly gensim is not installed in google colab\n",
        "!pip install gensim"
      ],
      "execution_count": 18,
      "outputs": [
        {
          "output_type": "stream",
          "text": [
            "Requirement already satisfied: gensim in /usr/local/lib/python3.6/dist-packages (3.6.0)\n",
            "Requirement already satisfied: six>=1.5.0 in /usr/local/lib/python3.6/dist-packages (from gensim) (1.11.0)\n",
            "Requirement already satisfied: numpy>=1.11.3 in /usr/local/lib/python3.6/dist-packages (from gensim) (1.14.6)\n",
            "Requirement already satisfied: smart-open>=1.2.1 in /usr/local/lib/python3.6/dist-packages (from gensim) (1.8.0)\n",
            "Requirement already satisfied: scipy>=0.18.1 in /usr/local/lib/python3.6/dist-packages (from gensim) (1.1.0)\n",
            "Requirement already satisfied: boto>=2.32 in /usr/local/lib/python3.6/dist-packages (from smart-open>=1.2.1->gensim) (2.49.0)\n",
            "Requirement already satisfied: bz2file in /usr/local/lib/python3.6/dist-packages (from smart-open>=1.2.1->gensim) (0.98)\n",
            "Requirement already satisfied: requests in /usr/local/lib/python3.6/dist-packages (from smart-open>=1.2.1->gensim) (2.18.4)\n",
            "Requirement already satisfied: boto3 in /usr/local/lib/python3.6/dist-packages (from smart-open>=1.2.1->gensim) (1.9.100)\n",
            "Requirement already satisfied: chardet<3.1.0,>=3.0.2 in /usr/local/lib/python3.6/dist-packages (from requests->smart-open>=1.2.1->gensim) (3.0.4)\n",
            "Requirement already satisfied: urllib3<1.23,>=1.21.1 in /usr/local/lib/python3.6/dist-packages (from requests->smart-open>=1.2.1->gensim) (1.22)\n",
            "Requirement already satisfied: certifi>=2017.4.17 in /usr/local/lib/python3.6/dist-packages (from requests->smart-open>=1.2.1->gensim) (2018.11.29)\n",
            "Requirement already satisfied: idna<2.7,>=2.5 in /usr/local/lib/python3.6/dist-packages (from requests->smart-open>=1.2.1->gensim) (2.6)\n",
            "Requirement already satisfied: botocore<1.13.0,>=1.12.100 in /usr/local/lib/python3.6/dist-packages (from boto3->smart-open>=1.2.1->gensim) (1.12.100)\n",
            "Requirement already satisfied: jmespath<1.0.0,>=0.7.1 in /usr/local/lib/python3.6/dist-packages (from boto3->smart-open>=1.2.1->gensim) (0.9.3)\n",
            "Requirement already satisfied: s3transfer<0.3.0,>=0.2.0 in /usr/local/lib/python3.6/dist-packages (from boto3->smart-open>=1.2.1->gensim) (0.2.0)\n",
            "Requirement already satisfied: python-dateutil<3.0.0,>=2.1; python_version >= \"2.7\" in /usr/local/lib/python3.6/dist-packages (from botocore<1.13.0,>=1.12.100->boto3->smart-open>=1.2.1->gensim) (2.5.3)\n",
            "Requirement already satisfied: docutils>=0.10 in /usr/local/lib/python3.6/dist-packages (from botocore<1.13.0,>=1.12.100->boto3->smart-open>=1.2.1->gensim) (0.14)\n"
          ],
          "name": "stdout"
        }
      ]
    },
    {
      "metadata": {
        "colab_type": "code",
        "id": "zJsmyAUOqM20",
        "colab": {}
      },
      "cell_type": "code",
      "source": [
        "from gensim.models.keyedvectors import KeyedVectors\n",
        "\n",
        "# PATH_W2V = SST_HOME + \"DL/w2v/wikipedia-pubmed-and-PMC-w2v.bin\"\n",
        "PATH_W2V = SST_HOME + \"DL/w2v/svd_300.txt\"  # word =  d_str[word]\n",
        "# PATH_W2V = SST_HOME + \"DL/w2v/IDX_IPR_C_N_L_month_ALL_MEMBERS_fold1_s300_w20_ss5_hs_thr12.txt\"\n",
        "# PATH_W2V = SST_HOME + \"DL/w2v/DeVine_etal_200.txt\"\n",
        "\n",
        "PATH_CUID = SST_HOME + \"DL/w2v/CUID/2b_concept_ID_to_CUI.txt\"\n",
        "PATH_STRD = SST_HOME + \"DL/w2v/CUID/2a_concept_ID_to_string.txt\""
      ],
      "execution_count": 0,
      "outputs": []
    },
    {
      "metadata": {
        "id": "YJdcpbm7_tMh",
        "colab_type": "code",
        "outputId": "f06963c3-d22b-4dea-fa04-5d25069e2aa0",
        "colab": {
          "base_uri": "https://localhost:8080/",
          "height": 34
        }
      },
      "cell_type": "code",
      "source": [
        "from os import listdir\n",
        "print(listdir(SST_HOME + \"DL/w2v\"))"
      ],
      "execution_count": 20,
      "outputs": [
        {
          "output_type": "stream",
          "text": [
            "['wikipedia-pubmed-and-PMC-w2v.bin', 'DeVine_etal_200.txt', 'svd_300.txt', 'CUID', 'IDX_IPR_C_N_L_month_ALL_MEMBERS_fold1_s300_w20_ss5_hs_thr12.txt']\n"
          ],
          "name": "stdout"
        }
      ]
    },
    {
      "metadata": {
        "colab_type": "code",
        "id": "81mK3tCEqM22",
        "colab": {}
      },
      "cell_type": "code",
      "source": [
        "def text_to_dict(path, reverse=False):\n",
        "  d = {}\n",
        "  with open(path, encoding='latin-1') as f:\n",
        "      for line in f:\n",
        "        if reverse:\n",
        "          val = line.split()[0]\n",
        "          key = \" \".join(line.split()[1:])\n",
        "        else:\n",
        "          key = line.split()[0]\n",
        "          val = \" \".join(line.split()[1:])\n",
        "          \n",
        "        d[key] = val\n",
        "  return d\n",
        "        \n",
        "def load_W2V_model(path, binary):\n",
        "    model = KeyedVectors.load_word2vec_format(path, binary=binary)\n",
        "    print(\"Binary : {}\".format(binary))\n",
        "    print(\"Loaded W2V model\")\n",
        "    return model\n",
        "  \n",
        "def generate_embedding_weigths(word_index, max_words, model, binary=False):\n",
        "  # We initialize the embd matrix as random\n",
        "  # mbedding_matrix = np.zeros((max_words, model.vector_size), dtype=np.float32)\n",
        "  embedding_matrix = np.random.rand(max_words, model.vector_size)\n",
        "  d_cuid = text_to_dict(PATH_CUID)\n",
        "  d_str = text_to_dict(PATH_STRD, reverse=True)\n",
        "  hit = 0\n",
        "  for word, i in word_index.items():\n",
        "    if i >= max_words:\n",
        "        break\n",
        "    if not binary:\n",
        "      try:\n",
        "        # word = d_cuid[d_str[word]]  # Un-comment if using CUIDS\n",
        "        word =  d_str[word]  # Un-comment if using concept ids\n",
        "      except KeyError:\n",
        "        continue\n",
        "    if word in model:\n",
        "        # words not found in embedding index will be all-zeros.\n",
        "        embedding_matrix[i] = model[word]\n",
        "        hit += 1\n",
        "  print(\"Hits: {}\\nTotal: {}\".format(hit, i))\n",
        "\n",
        "  return embedding_matrix"
      ],
      "execution_count": 0,
      "outputs": []
    },
    {
      "metadata": {
        "colab_type": "code",
        "id": "6qPp111eqM26",
        "outputId": "e790f5a1-528a-43e7-9a7b-394b7c68d0b7",
        "colab": {
          "base_uri": "https://localhost:8080/",
          "height": 119
        }
      },
      "cell_type": "code",
      "source": [
        "for p in network_parameters:\n",
        "  p[\"embedding_matrix\"] = None\n",
        "    \n",
        "if any([p[\"load_embeddings\"] for p in network_parameters]):\n",
        "  binary = True if PATH_W2V[-3:]==\"bin\" else False\n",
        "  if not 'model' in locals():\n",
        "    model = load_W2V_model(PATH_W2V, binary)\n",
        "  # Generate the weights matrix\n",
        "  \n",
        "  if any([p[\"tfidf\"] and p[\"load_embeddings\"] for p in network_parameters]):\n",
        "    p = [p for p in network_parameters if p[\"tfidf\"]][0]\n",
        "    embedding_matrix_tfidf = generate_embedding_weigths(tokenizer_tfidf.word_index, p[\"max_words\"], model, binary=binary)\n",
        "  if any([(not p[\"tfidf\"]) and p[\"load_embeddings\"] for p in network_parameters]):\n",
        "    p = [p for p in network_parameters if not p[\"tfidf\"]][0]\n",
        "    embedding_matrix = generate_embedding_weigths(tokenizer.word_index, p[\"max_words\"], model, binary=binary)\n",
        "    \n",
        "  for p in network_parameters:\n",
        "    if p[\"load_embeddings\"]: \n",
        "      p[\"embeddings_size\"] = model.vector_size\n",
        "      p[\"embedding_matrix\"] = embedding_matrix if not p[\"tfidf\"] else embedding_matrix_tfidf"
      ],
      "execution_count": 22,
      "outputs": [
        {
          "output_type": "stream",
          "text": [
            "Binary : False\n",
            "Loaded W2V model\n",
            "Hits: 618\n",
            "Total: 4348\n",
            "Hits: 674\n",
            "Total: 5000\n"
          ],
          "name": "stdout"
        }
      ]
    },
    {
      "metadata": {
        "id": "bb0FfnuKv1ZD",
        "colab_type": "code",
        "colab": {}
      },
      "cell_type": "code",
      "source": [
        "# d_cuid = text_to_dict(PATH_CUID)\n",
        "# d_str = text_to_dict(PATH_STRD, reverse=True)\n",
        "# print(d_str[\"pain\"])\n",
        "# print(d_str.keys()[:100])"
      ],
      "execution_count": 0,
      "outputs": []
    },
    {
      "metadata": {
        "id": "TOc6GfiVtFVh",
        "colab_type": "text"
      },
      "cell_type": "markdown",
      "source": [
        "**Create a keras Embedding model**\n",
        "\n",
        "In this section we will create a Keras RNN model, compile, and train it.\n",
        "\n",
        "In this model we can decide to generate the different embeddings for the words by using a pre-trained embeddings as the wikipedia ones for example.\n",
        "\n",
        "Some information about the architecture of the net is shown bellow. "
      ]
    },
    {
      "metadata": {
        "id": "vVaH2QqctjPJ",
        "colab_type": "code",
        "colab": {}
      },
      "cell_type": "code",
      "source": [
        "import keras\n",
        "from keras import backend as K\n",
        "from keras.models import Model\n",
        "from keras.layers import Dense, Activation, Embedding, Dropout, Input\n",
        "from keras.layers import Lambda, Flatten, RepeatVector, Permute, Multiply\n",
        "from keras.layers import LSTM, GRU, Bidirectional, BatchNormalization\n",
        "from keras.layers import Conv1D, MaxPooling1D, Concatenate\n",
        "\n",
        "from keras.callbacks import ReduceLROnPlateau, EarlyStopping, ModelCheckpoint\n",
        "from keras.losses import binary_crossentropy\n",
        "from keras.optimizers import RMSprop, Adam\n",
        "\n",
        "from keras.utils import plot_model"
      ],
      "execution_count": 0,
      "outputs": []
    },
    {
      "metadata": {
        "id": "dmQoMtHYsT5s",
        "colab_type": "code",
        "colab": {}
      },
      "cell_type": "code",
      "source": [
        "cell_type = {\"LSTM\": LSTM,\n",
        "             \"GRU\": GRU}\n",
        "\n",
        "for p in network_parameters:\n",
        "  p[\"cell_type\"] = cell_type[p[\"cell_type\"]]"
      ],
      "execution_count": 0,
      "outputs": []
    },
    {
      "metadata": {
        "id": "_RChdTccu23y",
        "colab_type": "code",
        "colab": {}
      },
      "cell_type": "code",
      "source": [
        "def add_embeddings(z, load, size, trainable, vocab_size, max_length, embedding_matrix): \n",
        "  \"\"\"\n",
        "  This method adds embeddings to the network.\n",
        "  \n",
        "  Returns the net with the embeddings added.\n",
        "  \"\"\"\n",
        "  if load:\n",
        "    z = Embedding(vocab_size, size, input_length=max_length, weights=[embedding_matrix], trainable=trainable)(z)\n",
        "  else:\n",
        "    z = Embedding(vocab_size, size, input_length=max_length)(z)\n",
        "    \n",
        "  return z\n",
        "\n",
        "def add_cnn(z, size, filter_sizes, flatten):\n",
        "  \"\"\"\n",
        "  This method adds the CNN layers to the network.\n",
        "  \n",
        "  Returns the net with the CNN layers.\n",
        "  \"\"\"\n",
        "  conv_blocks = []\n",
        "  for filter_size in filter_sizes:\n",
        "    if filter_size is None:\n",
        "      return z\n",
        "    conv = None\n",
        "    for i, cnn_layer in enumerate(size):\n",
        "      if cnn_layer is None:\n",
        "        return z\n",
        "      conv = Conv1D(cnn_layer, filter_size, padding='valid', activation='relu', strides=1)(z if conv is None else conv)\n",
        "      if (i + 1)  % 2 == 0:\n",
        "        conv = MaxPooling1D(pool_size=filter_size)(conv)        \n",
        "      \n",
        "    if flatten:\n",
        "      conv = Flatten()(conv)\n",
        "    conv_blocks.append(conv)         \n",
        " \n",
        "  z = Concatenate()(conv_blocks) if len(conv_blocks) > 1 else conv_blocks[0]\n",
        "  \n",
        "  return z\n",
        "\n",
        "def add_rnn(z, size, bidirectional, cell_type, attention):\n",
        "  \"\"\"\n",
        "  This method adds the RNN layers to the network. It also adds an attention layer if intended.\n",
        "  \n",
        "  Returns the net with the RNN & Attention added.\n",
        "  \"\"\"\n",
        "  for i, rsz in enumerate(size):\n",
        "    if rsz is None:\n",
        "      return z\n",
        "    if not bidirectional:\n",
        "      if i < len(size) - 1:\n",
        "        z = cell_type(rsz, return_sequences=True)(z)\n",
        "      else:\n",
        "        z = cell_type(rsz, return_sequences=attention)(z)\n",
        "    else:\n",
        "      if i < len(size) - 1:\n",
        "        z = Bidirectional(cell_type(rsz, return_sequences=True))(z)\n",
        "      else:\n",
        "        z = Bidirectional(cell_type(rsz, return_sequences=attention))(z)\n",
        "\n",
        "  if attention:\n",
        "    z = add_attention(z)\n",
        "\n",
        "  return z\n",
        "\n",
        "def add_dnn(z, size, dropout, activation=\"sigmoid\"):\n",
        "  \"\"\"\n",
        "  This method adds the DNN layers to the network.\n",
        "  \n",
        "  Returns the net with the DNN layers added.\n",
        "  \"\"\"\n",
        "  for fsz in size:\n",
        "    if fsz is None:\n",
        "      return z\n",
        "\n",
        "    z = Dense(fsz, activation=activation)(z)\n",
        "    z = Dropout(dropout)(z)\n",
        "    \n",
        "  return z\n",
        "\n",
        "def add_attention(activations):\n",
        "  \"\"\"\n",
        "  This method adds an attention layer.\n",
        "  \n",
        "  Returns the model with the attention layer.\n",
        "  \"\"\"\n",
        "  \n",
        "  size =  K.int_shape(activations)[-1]\n",
        "  attention = BatchNormalization()(activations)\n",
        "  attention = Dense(1, activation='tanh')(attention)\n",
        "  attention = Flatten()(attention)\n",
        "  attention = Activation('softmax')(attention)\n",
        "  attention = RepeatVector(size)(attention)\n",
        "  attention = Permute([2, 1])(attention)\n",
        "  \n",
        "  z = Multiply()([activations, attention])\n",
        "  z = Lambda(lambda xin: K.sum(xin, axis=-2), output_shape=(size,))(z)\n",
        "\n",
        "  return z"
      ],
      "execution_count": 0,
      "outputs": []
    },
    {
      "metadata": {
        "id": "oXEdPJGZsh_l",
        "colab_type": "code",
        "colab": {}
      },
      "cell_type": "code",
      "source": [
        "def create_model(params):\n",
        "  \"\"\"\n",
        "  This method creates a network model with the parameters given.\n",
        "  \n",
        "  Returns the uncompiled model.\n",
        "  \"\"\"\n",
        "  inputs = Input(name='inputs',shape=(params[\"max_length\"],))\n",
        "  \n",
        "  z = add_embeddings(inputs, params[\"load_embeddings\"], params[\"embeddings_size\"], params[\"trainable_embeddings\"], params[\"max_words\"] ,params[\"max_length\"], params[\"embedding_matrix\"])\n",
        "  \n",
        "  # z = add_cnn(z, params[\"cnn_size\"], params[\"cnn_filter\"], [None] == params[\"rnn_size\"])\n",
        "  \n",
        "  z = add_rnn(z, params[\"rnn_size\"], params[\"bidirectional\"], params[\"cell_type\"], params[\"attention\"])\n",
        "  \n",
        "  z = add_dnn(z, params[\"dnn_size\"], params[\"dropout\"])\n",
        "  \n",
        "  outputs = Dense(params[\"num_classes\"], activation='sigmoid', name='output_layer')(z)\n",
        "  \n",
        "  net_model = Model(inputs=inputs,outputs=outputs)\n",
        "  \n",
        "  return net_model"
      ],
      "execution_count": 0,
      "outputs": []
    },
    {
      "metadata": {
        "id": "OICx8yDss53e",
        "colab_type": "code",
        "colab": {}
      },
      "cell_type": "code",
      "source": [
        "def create_models(network_parameters, verbose=False):\n",
        "  model_list = []\n",
        "  for net_p in network_parameters:\n",
        "    m = create_model(net_p)\n",
        "    m.compile(loss='binary_crossentropy', optimizer='adam', metrics=['binary_accuracy'])\n",
        "    model_list.append(m)\n",
        "    \n",
        "    if verbose:\n",
        "      m.summary()\n",
        "      \n",
        "  return model_list"
      ],
      "execution_count": 0,
      "outputs": []
    },
    {
      "metadata": {
        "id": "iaz6AMV0TnRV",
        "colab_type": "code",
        "outputId": "c933424c-db1d-405a-c5f2-1d1d392702bd",
        "colab": {
          "base_uri": "https://localhost:8080/",
          "height": 1431
        }
      },
      "cell_type": "code",
      "source": [
        "model_list = create_models(network_parameters, verbose=True)"
      ],
      "execution_count": 30,
      "outputs": [
        {
          "output_type": "stream",
          "text": [
            "WARNING:tensorflow:From /usr/local/lib/python3.6/dist-packages/tensorflow/python/framework/op_def_library.py:263: colocate_with (from tensorflow.python.framework.ops) is deprecated and will be removed in a future version.\n",
            "Instructions for updating:\n",
            "Colocations handled automatically by placer.\n",
            "WARNING:tensorflow:From /usr/local/lib/python3.6/dist-packages/keras/backend/tensorflow_backend.py:3445: calling dropout (from tensorflow.python.ops.nn_ops) with keep_prob is deprecated and will be removed in a future version.\n",
            "Instructions for updating:\n",
            "Please use `rate` instead of `keep_prob`. Rate should be set to `rate = 1 - keep_prob`.\n",
            "__________________________________________________________________________________________________\n",
            "Layer (type)                    Output Shape         Param #     Connected to                     \n",
            "==================================================================================================\n",
            "inputs (InputLayer)             (None, 3314)         0                                            \n",
            "__________________________________________________________________________________________________\n",
            "embedding_1 (Embedding)         (None, 3314, 300)    1500000     inputs[0][0]                     \n",
            "__________________________________________________________________________________________________\n",
            "bidirectional_1 (Bidirectional) (None, 3314, 128)    140160      embedding_1[0][0]                \n",
            "__________________________________________________________________________________________________\n",
            "bidirectional_2 (Bidirectional) (None, 3314, 128)    74112       bidirectional_1[0][0]            \n",
            "__________________________________________________________________________________________________\n",
            "batch_normalization_1 (BatchNor (None, 3314, 128)    512         bidirectional_2[0][0]            \n",
            "__________________________________________________________________________________________________\n",
            "dense_1 (Dense)                 (None, 3314, 1)      129         batch_normalization_1[0][0]      \n",
            "__________________________________________________________________________________________________\n",
            "flatten_1 (Flatten)             (None, 3314)         0           dense_1[0][0]                    \n",
            "__________________________________________________________________________________________________\n",
            "activation_1 (Activation)       (None, 3314)         0           flatten_1[0][0]                  \n",
            "__________________________________________________________________________________________________\n",
            "repeat_vector_1 (RepeatVector)  (None, 128, 3314)    0           activation_1[0][0]               \n",
            "__________________________________________________________________________________________________\n",
            "permute_1 (Permute)             (None, 3314, 128)    0           repeat_vector_1[0][0]            \n",
            "__________________________________________________________________________________________________\n",
            "multiply_1 (Multiply)           (None, 3314, 128)    0           bidirectional_2[0][0]            \n",
            "                                                                 permute_1[0][0]                  \n",
            "__________________________________________________________________________________________________\n",
            "lambda_1 (Lambda)               (None, 128)          0           multiply_1[0][0]                 \n",
            "__________________________________________________________________________________________________\n",
            "dense_2 (Dense)                 (None, 32)           4128        lambda_1[0][0]                   \n",
            "__________________________________________________________________________________________________\n",
            "dropout_1 (Dropout)             (None, 32)           0           dense_2[0][0]                    \n",
            "__________________________________________________________________________________________________\n",
            "output_layer (Dense)            (None, 13)           429         dropout_1[0][0]                  \n",
            "==================================================================================================\n",
            "Total params: 1,719,470\n",
            "Trainable params: 219,214\n",
            "Non-trainable params: 1,500,256\n",
            "__________________________________________________________________________________________________\n",
            "__________________________________________________________________________________________________\n",
            "Layer (type)                    Output Shape         Param #     Connected to                     \n",
            "==================================================================================================\n",
            "inputs (InputLayer)             (None, 2336)         0                                            \n",
            "__________________________________________________________________________________________________\n",
            "embedding_2 (Embedding)         (None, 2336, 300)    1304400     inputs[0][0]                     \n",
            "__________________________________________________________________________________________________\n",
            "bidirectional_3 (Bidirectional) (None, 2336, 128)    140160      embedding_2[0][0]                \n",
            "__________________________________________________________________________________________________\n",
            "bidirectional_4 (Bidirectional) (None, 2336, 128)    74112       bidirectional_3[0][0]            \n",
            "__________________________________________________________________________________________________\n",
            "batch_normalization_2 (BatchNor (None, 2336, 128)    512         bidirectional_4[0][0]            \n",
            "__________________________________________________________________________________________________\n",
            "dense_3 (Dense)                 (None, 2336, 1)      129         batch_normalization_2[0][0]      \n",
            "__________________________________________________________________________________________________\n",
            "flatten_2 (Flatten)             (None, 2336)         0           dense_3[0][0]                    \n",
            "__________________________________________________________________________________________________\n",
            "activation_2 (Activation)       (None, 2336)         0           flatten_2[0][0]                  \n",
            "__________________________________________________________________________________________________\n",
            "repeat_vector_2 (RepeatVector)  (None, 128, 2336)    0           activation_2[0][0]               \n",
            "__________________________________________________________________________________________________\n",
            "permute_2 (Permute)             (None, 2336, 128)    0           repeat_vector_2[0][0]            \n",
            "__________________________________________________________________________________________________\n",
            "multiply_2 (Multiply)           (None, 2336, 128)    0           bidirectional_4[0][0]            \n",
            "                                                                 permute_2[0][0]                  \n",
            "__________________________________________________________________________________________________\n",
            "lambda_2 (Lambda)               (None, 128)          0           multiply_2[0][0]                 \n",
            "__________________________________________________________________________________________________\n",
            "dense_4 (Dense)                 (None, 32)           4128        lambda_2[0][0]                   \n",
            "__________________________________________________________________________________________________\n",
            "dropout_2 (Dropout)             (None, 32)           0           dense_4[0][0]                    \n",
            "__________________________________________________________________________________________________\n",
            "output_layer (Dense)            (None, 13)           429         dropout_2[0][0]                  \n",
            "==================================================================================================\n",
            "Total params: 1,523,870\n",
            "Trainable params: 219,214\n",
            "Non-trainable params: 1,304,656\n",
            "__________________________________________________________________________________________________\n"
          ],
          "name": "stdout"
        }
      ]
    },
    {
      "metadata": {
        "id": "1k_1Ff-iwRbV",
        "colab_type": "text"
      },
      "cell_type": "markdown",
      "source": [
        "# TB Colab Callback\n",
        "We rewrite the tensorboardcolab callbacks to create different sessions depending on the variables our trainings have. This helps to differentiate the models in tensorboard."
      ]
    },
    {
      "metadata": {
        "id": "3jsRRzrFv1NH",
        "colab_type": "code",
        "colab": {}
      },
      "cell_type": "code",
      "source": [
        "import os\n",
        "from keras.callbacks import TensorBoard\n",
        "import tensorflow as tf\n",
        "\n",
        "class TensorBoardColabCallback(TensorBoard):\n",
        "    def __init__(self, tbc=None, write_graph=True, name=None, **kwargs):\n",
        "        # Make the original `TensorBoard` log to a subdirectory 'training'\n",
        "\n",
        "        if tbc is None:\n",
        "            return\n",
        "\n",
        "        log_dir = tbc.get_graph_path()\n",
        "\n",
        "        training_log_dir = os.path.join(log_dir, 'training_{}'.format(name))\n",
        "        super(TensorBoardColabCallback, self).__init__(training_log_dir, **kwargs)\n",
        "\n",
        "        # Log the validation metrics to a separate subdirectory\n",
        "        self.val_log_dir = os.path.join(log_dir, 'validation_{}'.format(name))\n",
        "\n",
        "    def set_model(self, model):\n",
        "        # Setup writer for validation metrics\n",
        "        self.val_writer = tf.summary.FileWriter(self.val_log_dir)\n",
        "        super(TensorBoardColabCallback, self).set_model(model)\n",
        "\n",
        "    def on_epoch_end(self, epoch, logs=None):\n",
        "        # Pop the validation logs and handle them separately with\n",
        "        # `self.val_writer`. Also rename the keys so that they can\n",
        "        # be plotted on the same figure with the training metrics\n",
        "        logs = logs or {}\n",
        "        val_logs = {k.replace('val_', ''): v for k, v in logs.items() if k.startswith('val_')}\n",
        "\n",
        "        for name, value in val_logs.items():\n",
        "            # print('val_logs:',epoch, name, value)\n",
        "            summary = tf.Summary()\n",
        "            summary_value = summary.value.add()\n",
        "            summary_value.simple_value = value.item()\n",
        "            summary_value.tag = name\n",
        "            self.val_writer.add_summary(summary, epoch)\n",
        "        self.val_writer.flush()\n",
        "\n",
        "        # Pass the remaining logs to `TensorBoard.on_epoch_end`\n",
        "        logs = {k: v for k, v in logs.items() if not k.startswith('val_')}\n",
        "        super(TensorBoardColabCallback, self).on_epoch_end(epoch, logs)\n",
        "        \n",
        "    def on_train_end(self, logs=None):\n",
        "        super(TensorBoardColabCallback, self).on_train_end(logs)\n",
        "        self.val_writer.close()\n",
        "\n",
        "tb.TensorBoardColabCallback = TensorBoardColabCallback"
      ],
      "execution_count": 0,
      "outputs": []
    },
    {
      "metadata": {
        "id": "hd7YRWvKvXAj",
        "colab_type": "code",
        "colab": {}
      },
      "cell_type": "code",
      "source": [
        "def define_callbacks(name):\n",
        "  # Define the callbacks\n",
        "  tbc_callback = tb.TensorBoardColabCallback(tbc, name=name)  # , histogram_freq=1)\n",
        "   \n",
        "  callbacks = [\n",
        "      ReduceLROnPlateau(),\n",
        "      EarlyStopping(patience=4),\n",
        "      tbc_callback\n",
        "  ]\n",
        "  return callbacks"
      ],
      "execution_count": 0,
      "outputs": []
    },
    {
      "metadata": {
        "id": "C5g5kvMmJgl3",
        "colab_type": "code",
        "colab": {}
      },
      "cell_type": "code",
      "source": [
        "# Create an array of names\n",
        "network_names = []\n",
        "for p in network_parameters:\n",
        "  name = \"tfidf_{}_load_embeddings_{}_num_classes_{}_embeddings_size_{}_trainable_embeddings_{}_cnn_size_{}_cnn_filter_{}_rnn_size_{}_cell_type_{}_bidirectional_{}_attention_{}_dropout_{}_dnn_size_{}_batch_size_{}\".format(\n",
        "      p[\"tfidf\"], p[\"load_embeddings\"], p[\"num_classes\"], p[\"embeddings_size\"], p[\"trainable_embeddings\"], p[\"cnn_size\"], p[\"cnn_filter\"], p[\"rnn_size\"], \n",
        "      str(p[\"cell_type\"]).split(\".\")[-1].replace(\"'\", \"\").replace(\">\", \"\"), p[\"bidirectional\"],\n",
        "      p[\"attention\"], p[\"dropout\"], p[\"dnn_size\"], p[\"batch_size\"])\n",
        "  name = name.replace(\" \", \"\").replace(\"[\", \"\").replace(\"]\", \"\").replace(\",\", \"-\")\n",
        "  network_names.append(name)"
      ],
      "execution_count": 0,
      "outputs": []
    },
    {
      "metadata": {
        "id": "rQypOjW-Jz6v",
        "colab_type": "code",
        "outputId": "269c4619-f23d-40ef-9cea-1fff01bd48fe",
        "colab": {
          "base_uri": "https://localhost:8080/",
          "height": 530
        }
      },
      "cell_type": "code",
      "source": [
        "from keras.models import load_model\n",
        "for i, net_model in enumerate(model_list):\n",
        "  # Set a name for the model based on the tweaked parameters\n",
        "  p = network_parameters[i]\n",
        "  name = network_names[i]\n",
        "  model_path = SST_HOME+\"DL/models/\" + name\n",
        "\n",
        "  # If the model exists, don't compute it again.\n",
        "  if os.path.isfile(model_path):\n",
        "    continue\n",
        "    \n",
        "  print(\"\\n\\n********************************************\\n\")    \n",
        "  print(name)\n",
        "  callbacks = define_callbacks(name)\n",
        "  # Fit the model and extract its data\n",
        "  history = net_model.fit(train_x_token if not network_parameters[i][\"tfidf\"] else train_x_token_tfidf, train_y, epochs=20, batch_size=network_parameters[i][\"batch_size\"], \n",
        "                          class_weight=class_weight, callbacks=callbacks,\n",
        "                          validation_split=0.25)\n",
        "      \n",
        "  # And save the model\n",
        "  net_model.save(model_path)\n",
        "  plot_model(net_model,to_file=name+\"model\",show_shapes=True)\n",
        "  \n",
        "# To free memory from the gpu\n",
        "from keras import backend as K\n",
        "K.clear_session()"
      ],
      "execution_count": 0,
      "outputs": [
        {
          "output_type": "stream",
          "text": [
            "\n",
            "\n",
            "********************************************\n",
            "\n",
            "tfidf_False_load_embeddings_True_num_classes_13_embeddings_size_300_trainable_embeddings_False_cnn_size_None_cnn_filter_3_rnn_size_64-64_cell_type_GRU_bidirectional_True_attention_True_dropout_0.3_dnn_size_32_batch_size_None\n",
            "WARNING:tensorflow:From /usr/local/lib/python3.6/dist-packages/tensorflow/python/ops/math_ops.py:3066: to_int32 (from tensorflow.python.ops.math_ops) is deprecated and will be removed in a future version.\n",
            "Instructions for updating:\n",
            "Use tf.cast instead.\n",
            "Train on 151 samples, validate on 51 samples\n",
            "Epoch 1/10\n",
            "151/151 [==============================] - 114s 755ms/step - loss: 0.6461 - binary_accuracy: 0.6093 - val_loss: 0.5664 - val_binary_accuracy: 0.7496\n",
            "Epoch 2/10\n",
            "151/151 [==============================] - 112s 743ms/step - loss: 0.5736 - binary_accuracy: 0.7076 - val_loss: 0.5348 - val_binary_accuracy: 0.7722\n",
            "Epoch 3/10\n",
            "151/151 [==============================] - 112s 742ms/step - loss: 0.5469 - binary_accuracy: 0.7336 - val_loss: 0.5184 - val_binary_accuracy: 0.7722\n",
            "Epoch 4/10\n",
            "151/151 [==============================] - 112s 741ms/step - loss: 0.5338 - binary_accuracy: 0.7433 - val_loss: 0.5070 - val_binary_accuracy: 0.7722\n",
            "Epoch 5/10\n",
            "151/151 [==============================] - 111s 738ms/step - loss: 0.5314 - binary_accuracy: 0.7387 - val_loss: 0.4982 - val_binary_accuracy: 0.7722\n",
            "Epoch 6/10\n",
            "151/151 [==============================] - 113s 745ms/step - loss: 0.5123 - binary_accuracy: 0.7509 - val_loss: 0.4906 - val_binary_accuracy: 0.7722\n",
            "Epoch 7/10\n",
            "151/151 [==============================] - 115s 759ms/step - loss: 0.5102 - binary_accuracy: 0.7529 - val_loss: 0.4833 - val_binary_accuracy: 0.7722\n",
            "Epoch 8/10\n",
            "151/151 [==============================] - 114s 757ms/step - loss: 0.5055 - binary_accuracy: 0.7529 - val_loss: 0.4772 - val_binary_accuracy: 0.7722\n",
            "Epoch 9/10\n",
            "151/151 [==============================] - 114s 752ms/step - loss: 0.4976 - binary_accuracy: 0.7667 - val_loss: 0.4716 - val_binary_accuracy: 0.7722\n",
            "Epoch 10/10\n",
            " 96/151 [==================>...........] - ETA: 33s - loss: 0.5038 - binary_accuracy: 0.7428"
          ],
          "name": "stdout"
        }
      ]
    },
    {
      "metadata": {
        "id": "7-Lz0JL11nmX",
        "colab_type": "text"
      },
      "cell_type": "markdown",
      "source": [
        "# SKLearn Predictions"
      ]
    },
    {
      "metadata": {
        "id": "8Lxy8qKkwD-1",
        "colab_type": "code",
        "colab": {}
      },
      "cell_type": "code",
      "source": [
        "from sklearn.metrics import classification_report\n",
        "predictions_list = []\n",
        "for i, net_model in enumerate(model_list):\n",
        "  print(\"\\n\\n********************************************\\n\")\n",
        "  print(network_names[i])\n",
        "  model_path = SST_HOME+\"DL/models/\" + network_names[i]\n",
        "  try:\n",
        "    net_model = load_model(model_path)\n",
        "  except ValueError:\n",
        "    print(\"The model {} was not loaded correctly\".format(name))\n",
        "    continue\n",
        "    \n",
        "  predictions = net_model.predict(test_x_token if not network_parameters[i][\"tfidf\"] else test_x_token_tfidf)\n",
        "  print(predictions)\n",
        "  predictions = np.array([[0 if value < 0.5 else 1 for value in prediction] for prediction in predictions])\n",
        "  predictions_list.append(predictions)\n",
        "  # measuring performance on test set\n",
        "  cr=classification_report(test_y, predictions, target_names=CATEGORIES.values)\n",
        "  print(cr)\n",
        "\n",
        "  # Release memory\n",
        "  K.clear_session()\n"
      ],
      "execution_count": 0,
      "outputs": []
    },
    {
      "metadata": {
        "id": "zA9I2wtAm-6G",
        "colab_type": "code",
        "colab": {}
      },
      "cell_type": "code",
      "source": [
        "for i, pred in enumerate(predictions_list):\n",
        "  print(network_names[i])\n",
        "  print(pred)"
      ],
      "execution_count": 0,
      "outputs": []
    },
    {
      "metadata": {
        "colab_type": "text",
        "id": "1cCd5xkYqM3d"
      },
      "cell_type": "markdown",
      "source": [
        "\n",
        "\n",
        "#**Generating output in XML format**\n",
        "\n"
      ]
    },
    {
      "metadata": {
        "colab_type": "code",
        "id": "UPDeSPwfqM3e",
        "colab": {}
      },
      "cell_type": "code",
      "source": [
        "import xml.etree.ElementTree\n",
        "import os\n",
        "NOT='not met'\n",
        "MET='met'\n",
        "\n",
        "#gets a idFile, a dictionary with the predictions (category, label) and the name of the classifier used.\n",
        "def outputToXML(idFile, dictPred, classifier):\n",
        "    \n",
        "    path=SST_HOME+'data/test/xml/'+idFile+'.xml'\n",
        "    output_dir = SST_HOME+'data/output/'+classifier\n",
        "    \n",
        "    output = output_dir+'/'+idFile+'.xml'\n",
        "\n",
        "    if not os.path.exists(output_dir):\n",
        "      print(\"\\n\\nmaking dir\")\n",
        "      s = os.makedirs(output_dir)\n",
        "      print(output_dir)\n",
        "      print(s)      \n",
        "   \n",
        "    et = xml.etree.ElementTree.parse(path)\n",
        "\n",
        "    new_tag = xml.etree.ElementTree.SubElement(et.getroot(), 'TAGS')\n",
        "    \n",
        "    for cat in dictPred.keys():\n",
        "        element = xml.etree.ElementTree.SubElement(new_tag, cat)    \n",
        "        if dictPred[cat]==0:\n",
        "            element.attrib['met'] = NOT \n",
        "        else:\n",
        "            element.attrib['met'] = MET\n",
        "\n",
        "    et.write(output)\n",
        "\n",
        "#function for creating a dictionary with the categories with values 0 or 1\n",
        "def iniDictPred(labels, categories):\n",
        "    \n",
        "    if len(labels)!=len(categories):\n",
        "        print('Warning!!!')\n",
        "        return None\n",
        "    \n",
        "    dictPred={}\n",
        "    i=0\n",
        "    \n",
        "    for x in categories:\n",
        "        dictPred[x]=labels[i]\n",
        "        i=i+1\n",
        "    return dictPred"
      ],
      "execution_count": 0,
      "outputs": []
    },
    {
      "metadata": {
        "colab_type": "code",
        "id": "3Ua3D6lQqM3f",
        "colab": {}
      },
      "cell_type": "code",
      "source": [
        "#creates the output xml files per training\n",
        "\n",
        "for i, predictions in enumerate(predictions_list):\n",
        "  dictionary = zip(IDFILES, predictions)\n",
        "  for obj in dictionary:\n",
        "      idFile=str(obj[0][0])\n",
        "      labels=obj[1] #gets their predictions for this file\n",
        "      dictPred=iniDictPred(labels, CATEGORIES) #creates a dictionary to join categories and labels 0,1\n",
        "      outputToXML(idFile,dictPred,\"CRDNN/{}\".format(network_names[i]))\n",
        "\n",
        "  print('output xml files were generated!')"
      ],
      "execution_count": 0,
      "outputs": []
    },
    {
      "metadata": {
        "colab_type": "code",
        "id": "IiigZnfNqM3m",
        "colab": {}
      },
      "cell_type": "code",
      "source": [
        "import subprocess\n",
        "# Writes the output in a file for each training.\n",
        "for i, name in enumerate(network_names):\n",
        "  print(name) \n",
        "  path = \"data/output/CRDNN/\"\n",
        "  n = path + \"{}\".format(name)\n",
        "  os.system('cd \"{}\" && echo \"{}\" {} {}results.txt'.format(SST_HOME, name, \">\" if i == 0 else \">>\", path))\n",
        "  os.system('cd \"{}\" && python3 track1_eval.py data/test/gold {} >> {}results.txt'.format(SST_HOME, n, path))"
      ],
      "execution_count": 0,
      "outputs": []
    },
    {
      "metadata": {
        "id": "iyaCbNQri1Ri",
        "colab_type": "code",
        "colab": {}
      },
      "cell_type": "code",
      "source": [
        ""
      ],
      "execution_count": 0,
      "outputs": []
    }
  ]
}