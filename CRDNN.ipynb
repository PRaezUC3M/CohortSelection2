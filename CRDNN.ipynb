{
  "nbformat": 4,
  "nbformat_minor": 0,
  "metadata": {
    "colab": {
      "name": "RNN.ipynb",
      "version": "0.3.2",
      "provenance": [],
      "collapsed_sections": [],
      "include_colab_link": true
    },
    "kernelspec": {
      "name": "python3",
      "display_name": "Python 3"
    },
    "accelerator": "GPU"
  },
  "cells": [
    {
      "cell_type": "markdown",
      "metadata": {
        "id": "view-in-github",
        "colab_type": "text"
      },
      "source": [
        "<a href=\"https://colab.research.google.com/github/PRaezUC3M/CohortSelection2/blob/master/CRDNN.ipynb\" target=\"_parent\"><img src=\"https://colab.research.google.com/assets/colab-badge.svg\" alt=\"Open In Colab\"/></a>"
      ]
    },
    {
      "metadata": {
        "colab_type": "code",
        "id": "TQR9Sn1usb-x",
        "outputId": "b7840320-ab10-418a-9259-8f27b3c8a23b",
        "colab": {
          "base_uri": "https://localhost:8080/",
          "height": 34
        }
      },
      "cell_type": "code",
      "source": [
        "from google.colab import drive\n",
        "drive.mount('/content/drive')"
      ],
      "execution_count": 0,
      "outputs": [
        {
          "output_type": "stream",
          "text": [
            "Drive already mounted at /content/drive; to attempt to forcibly remount, call drive.mount(\"/content/drive\", force_remount=True).\n"
          ],
          "name": "stdout"
        }
      ]
    },
    {
      "metadata": {
        "colab_type": "code",
        "id": "GvstijeTsb-6",
        "colab": {}
      },
      "cell_type": "code",
      "source": [
        "import numpy as np\n",
        "import tensorflow as tf\n",
        "\n",
        "np.random.seed(1)\n",
        "tf.set_random_seed(2)"
      ],
      "execution_count": 0,
      "outputs": []
    },
    {
      "metadata": {
        "id": "vluB44afpEHL",
        "colab_type": "text"
      },
      "cell_type": "markdown",
      "source": [
        "# **Configurartion of the experiments**\n",
        "The different possible experiments have been automated. It is inspired in grid-search, and the parameters must be expressed in array-like style. You can find an example below.\n",
        "\n",
        "Every possible example will be generated from the combination of the different parameters given."
      ]
    },
    {
      "metadata": {
        "id": "AdJIJMn1pbCa",
        "colab_type": "code",
        "colab": {}
      },
      "cell_type": "code",
      "source": [
        "load_embeddings = [True]\n",
        "num_classes = [None]\n",
        "embeddings_size = [None]\n",
        "rnn_size = [[64]]\n",
        "cell_type = [\"GRU\"]\n",
        "bidirectional = [True]\n",
        "attention = [False]\n",
        "dropout = [0.3]\n",
        "dnn_size = [[32]]\n",
        "batch_size = [None]\n",
        "\n",
        "indexes = [\"load_embeddings\", \"num_classes\", \"embeddings_size\", \"rnn_size\", \"cell_type\", \"bidirectional\", \"attention\", \"dropout\", \"dnn_size\", \"batch_size\"]\n",
        "param   = [tfidf, load_embeddings, num_classes, embeddings_size, rnn_size, cell_type, bidirectional, attention, dropout, dnn_size, batch_size]"
      ],
      "execution_count": 0,
      "outputs": []
    },
    {
      "metadata": {
        "id": "b65TBRSg3wep",
        "colab_type": "code",
        "colab": {}
      },
      "cell_type": "code",
      "source": [
        "import itertools\n",
        "\n",
        "def combine_params(param, indexes):\n",
        "  combinations = list(itertools.product(*param))\n",
        "  param_combinations = [{k:v for k, v in zip(indexes, combination)}  for combination in combinations]\n",
        "  for p in param_combinations:\n",
        "    # The embeddings size must adapt to the embeddings loaded.\n",
        "    if p[\"load_embeddings\"]:\n",
        "      p[\"embeddings_size\"] = None\n",
        "  return param_combinations"
      ],
      "execution_count": 0,
      "outputs": []
    },
    {
      "metadata": {
        "id": "N-nFuYPyy8eW",
        "colab_type": "code",
        "outputId": "7e58ea0b-c30a-472d-9766-a99f4a2e69e0",
        "colab": {
          "base_uri": "https://localhost:8080/",
          "height": 194
        }
      },
      "cell_type": "code",
      "source": [
        "network_parameters = combine_params(param, indexes)\n",
        "network_parameters"
      ],
      "execution_count": 0,
      "outputs": [
        {
          "output_type": "execute_result",
          "data": {
            "text/plain": [
              "[{'attention': False,\n",
              "  'batch_size': None,\n",
              "  'bidirectional': True,\n",
              "  'cell_type': 'GRU',\n",
              "  'dnn_size': [32],\n",
              "  'dropout': 0.3,\n",
              "  'embeddings_size': None,\n",
              "  'load_embeddings': True,\n",
              "  'num_classes': None,\n",
              "  'rnn_size': [64]}]"
            ]
          },
          "metadata": {
            "tags": []
          },
          "execution_count": 5
        }
      ]
    },
    {
      "metadata": {
        "colab_type": "text",
        "id": "-U6xgKq_sb_B"
      },
      "cell_type": "markdown",
      "source": [
        "# **Load the train and test csv files**\n",
        "This functions load the data and generate the different datasets from the given csv files. "
      ]
    },
    {
      "metadata": {
        "colab_type": "code",
        "id": "UruHey_Zsb_C",
        "outputId": "e45bf1ae-9b6d-4edd-99b0-0d87f8ab7b62",
        "colab": {
          "base_uri": "https://localhost:8080/",
          "height": 52
        }
      },
      "cell_type": "code",
      "source": [
        "import pandas as pd\n",
        "import numpy as np\n",
        "\n",
        "SST_HOME='drive/My Drive/Colab Notebooks/CohortSelection2/'\n",
        "path_train=SST_HOME+'data/train/train.csv'\n",
        "path_test=SST_HOME+'data/test/test.csv'\n",
        "\n",
        "def load(path):\n",
        "  \n",
        "  df = pd.read_csv(path,header=0, delimiter=\"\\t\", quoting=3)\n",
        "\n",
        "  categories=df.columns[2:]\n",
        "  idFiles = df[['IDFILE']].as_matrix().tolist()\n",
        "\n",
        "  texts = df[['TEXT']].as_matrix()\n",
        "  X = [x[0].strip() for x in texts.tolist()]\n",
        "\n",
        "  #we only keep the columns with the categories.\n",
        "  Y = df.drop(['IDFILE', 'TEXT'], axis=1).as_matrix()\n",
        "\n",
        "\n",
        "  print(path,'dataset loaded')\n",
        "  \n",
        "  return X, Y, categories, idFiles\n",
        "\n",
        "\n",
        "train_x, train_y, CATEGORIES, _ = load(path_train)\n",
        "test_x, test_y, _, IDFILES = load(path_test)"
      ],
      "execution_count": 0,
      "outputs": [
        {
          "output_type": "stream",
          "text": [
            "drive/My Drive/Colab Notebooks/CohortSelection2/data/train/train.csv dataset loaded\n",
            "drive/My Drive/Colab Notebooks/CohortSelection2/data/test/test.csv dataset loaded\n"
          ],
          "name": "stdout"
        }
      ]
    },
    {
      "metadata": {
        "id": "VvG0svi8QAER",
        "colab_type": "code",
        "colab": {}
      },
      "cell_type": "code",
      "source": [
        "for p in network_parameters:\n",
        "  p[\"num_classes\"] = train_y.shape[1]"
      ],
      "execution_count": 0,
      "outputs": []
    },
    {
      "metadata": {
        "colab_type": "text",
        "id": "zswqSRmTqM2A"
      },
      "cell_type": "markdown",
      "source": [
        "#**Balancing the categories**\n",
        "We can see that there are some categories way more present than others in our dataset. Let's sort them."
      ]
    },
    {
      "metadata": {
        "id": "OXBDCgcT8c5Y",
        "colab_type": "text"
      },
      "cell_type": "markdown",
      "source": [
        "The categories are distributed in the following way\n"
      ]
    },
    {
      "metadata": {
        "id": "R9zxnXt38hO-",
        "colab_type": "code",
        "outputId": "e6bae78a-30db-47d3-af11-8b6eece2d2da",
        "colab": {
          "base_uri": "https://localhost:8080/",
          "height": 565
        }
      },
      "cell_type": "code",
      "source": [
        "import matplotlib.pyplot as plt\n",
        "import seaborn as sns  \n",
        "\n",
        "fig = plt.figure(figsize=(20,8))\n",
        "(ax_train, ax_test) = fig.subplots(ncols=2, nrows=1)\n",
        "g1 = sns.barplot(x=train_y.sum(axis=0), y=CATEGORIES, ax=ax_train)\n",
        "ax_train.set_xlabel('Number of records')\n",
        "g2 = sns.barplot(x=test_y.sum(axis=0), y=CATEGORIES, ax=ax_test)\n",
        "ax_test.set_xlabel('Number of records')\n",
        "g1.set_title(\"Criteria distribution on training dataset\")\n",
        "g2.set_title(\"Criteria distribution on testing dataset\")"
      ],
      "execution_count": 0,
      "outputs": [
        {
          "output_type": "stream",
          "text": [
            "/usr/local/lib/python3.6/dist-packages/seaborn/categorical.py:1428: FutureWarning: remove_na is deprecated and is a private function. Do not use.\n",
            "  stat_data = remove_na(group_data)\n"
          ],
          "name": "stderr"
        },
        {
          "output_type": "execute_result",
          "data": {
            "text/plain": [
              "Text(0.5, 1.0, 'Criteria distribution on testing dataset')"
            ]
          },
          "metadata": {
            "tags": []
          },
          "execution_count": 8
        },
        {
          "output_type": "display_data",
          "data": {
            "image/png": "[encoded data removed]",
            "text/plain": [
              "<Figure size 1440x576 with 2 Axes>"
            ]
          },
          "metadata": {
            "tags": []
          }
        }
      ]
    },
    {
      "metadata": {
        "colab_type": "text",
        "id": "7Bfd-GpbqM2G"
      },
      "cell_type": "markdown",
      "source": [
        "Now we can see the differences in a easier way, we will add weights to the different classes, based on how present they are in the dataset."
      ]
    },
    {
      "metadata": {
        "colab_type": "code",
        "id": "wQaO6I_tqM2H",
        "colab": {}
      },
      "cell_type": "code",
      "source": [
        "classes = np.add(sum(train_y), sum(test_y))\n",
        "total_cases = sum(classes)\n",
        "class_weight = [1 / (c/total_cases) for c in classes]"
      ],
      "execution_count": 0,
      "outputs": []
    },
    {
      "metadata": {
        "colab_type": "text",
        "id": "Pvixevcqsb_Z"
      },
      "cell_type": "markdown",
      "source": [
        "# **Tokenize the dataset and use the word embeddings**\n",
        "\n",
        "This shows the set of different words ordered by frequency. *tokenizer.word_index*\n",
        "\n",
        "The text is tokenized and cleaned of stop-words as well as punctuation signs. Also the numbers are substituted by a token \"nmbr\"\n",
        "\n",
        "We crop the beggining of the examples because it is the date when they\n",
        "were written down.\n",
        "\n",
        "Finally, and after being tokenized, the different sentences are padded to match the maximum length.\n",
        "\n",
        "max_length == 7813 it is really a huge vector because we have to pad\n",
        "it afterwards, in order to get it into the CNN"
      ]
    },
    {
      "metadata": {
        "colab_type": "code",
        "id": "t3ntmzICsb_a",
        "outputId": "7ae4e119-10c6-4bbf-cc46-0bfb76c689f8",
        "colab": {
          "base_uri": "https://localhost:8080/",
          "height": 70
        }
      },
      "cell_type": "code",
      "source": [
        "from keras.preprocessing.text import Tokenizer\n",
        "from keras.preprocessing.sequence import pad_sequences\n",
        "from sklearn.feature_extraction.text import TfidfVectorizer\n",
        "\n",
        "import nltk\n",
        "from nltk.corpus import stopwords\n",
        "nltk.download('stopwords')\n",
        "stop_words=stopwords.words('english')\n",
        "# Define vocabulary length\n",
        "MAX_WORDS = 5000\n",
        "# Defined from the dataset itself.\n",
        "DATE_LENGTH = 23"
      ],
      "execution_count": 0,
      "outputs": [
        {
          "output_type": "stream",
          "text": [
            "Using TensorFlow backend.\n"
          ],
          "name": "stderr"
        },
        {
          "output_type": "stream",
          "text": [
            "[nltk_data] Downloading package stopwords to /root/nltk_data...\n",
            "[nltk_data]   Package stopwords is already up-to-date!\n"
          ],
          "name": "stdout"
        }
      ]
    },
    {
      "metadata": {
        "colab_type": "code",
        "id": "lV3LXEEgsb_h",
        "colab": {}
      },
      "cell_type": "code",
      "source": [
        "# We are using this function to clean the test set\n",
        "def tokenize_clean_text(text, tokenizer=None, max_length=None, max_words=MAX_WORDS, date_length=DATE_LENGTH):\n",
        "  \"\"\"\n",
        "  This function is in charge of tokenizing the text it is given. It also cleans\n",
        "  the text from stop-words, punctuation, and gives a special token to numbers.\n",
        "  \n",
        "  :param text: The texts to tokenize in a bidimensional python array.\n",
        "  \n",
        "  :returns: The tokenized and cleaned text in a bidimensional python array.\n",
        "            The tokenizer used to preprocess the text.\n",
        "            The maximum length used for padding.\n",
        "  \"\"\"   \n",
        "  # Consider to stemm or lemmatize the text \n",
        "  \n",
        "  cropped_date_text = [sentence[date_length:] for sentence in text]\n",
        "    \n",
        "  # We remove the numbers\n",
        "  cropped_date_numbers_text = [\" \".join([word if not word.isdigit() else \"\"\n",
        "                                for word in sentence.split()])\n",
        "                               for sentence in cropped_date_text]\n",
        "  \n",
        "  # Delete stopwords as well as every word less than 3 chars.\n",
        "  cropped_date_numbers_stopw_text = [\" \".join([word if not (word in stop_words or len(word) <= 3) else \"\"\n",
        "                                      for word in sentence.split()])\n",
        "                                     for sentence in cropped_date_numbers_text]\n",
        "  \n",
        "  vec = TfidfVectorizer(max_features=max_words)\n",
        "  tfidf_mat = vec.fit_transform(cropped_date_numbers_stopw_text).toarray()\n",
        "  tfid_words = vec.get_feature_names()\n",
        "  \n",
        "  cropped_date_numbers_stopw_tfidf_text = [\" \".join([word if word in tfid_words else \"\"\n",
        "                                          for word in sentence.split()])\n",
        "                                          for sentence in cropped_date_numbers_stopw_text]\n",
        "  \n",
        "  if tokenizer is None:\n",
        "    tokenizer = Tokenizer(num_words=max_words) # They use 5k words too\n",
        "    tokenizer.fit_on_texts(cropped_date_numbers_stopw_tfidf_text)\n",
        "  # We tokenize the sentences\n",
        "  tokenized_text = tokenizer.texts_to_sequences(cropped_date_numbers_stopw_tfidf_text)\n",
        "  \n",
        "  if max_length == None:\n",
        "    max_length = 0\n",
        "    for sentence in tokenized_text:\n",
        "      max_length = max_length if len(sentence) < max_length else len(sentence)\n",
        "  \n",
        "  # Now we return the padded the sequences.\n",
        "  return pad_sequences(tokenized_text, max_length), tokenizer, max_length, cropped_date_numbers_stopw_tfidf_text, cropped_date_numbers_stopw_text\n",
        "  "
      ],
      "execution_count": 0,
      "outputs": []
    },
    {
      "metadata": {
        "colab_type": "text",
        "id": "aTQ39hlAqM2d"
      },
      "cell_type": "markdown",
      "source": [
        "# RNN Input\n",
        "\n",
        "Here we take a maximum length of file by obtaining the accumulative density distribution of the training examples. This way we can see how many examples fall under certain threshold. Which will be fixed to 80% of the total examples. This length is 5000 words roughly."
      ]
    },
    {
      "metadata": {
        "id": "JEszPNw7n2si",
        "colab_type": "code",
        "outputId": "5013350c-9303-4bb8-926a-c28d6624885f",
        "colab": {
          "base_uri": "https://localhost:8080/",
          "height": 417
        }
      },
      "cell_type": "code",
      "source": [
        "train_x_token, tokenizer, max_length, tfidf_text, clean_text = tokenize_clean_text(train_x)\n",
        "  \n",
        "test_x_token, _, _, _, _ = tokenize_clean_text(test_x, tokenizer, max_length=max_length)\n",
        "assert len(train_x_token) == len(train_x)\n",
        "assert len(test_x_token) == len(test_x)\n",
        "\n",
        "lenghts = [len(sentence[DATE_LENGTH:].split(\" \")) for sentence in tfidf_text]\n",
        "plt.hist(lenghts, cumulative=True, color='r')\n",
        "\n",
        "lenghts = [len(sentence[DATE_LENGTH:].split(\" \")) for sentence in clean_text]\n",
        "plt.hist(lenghts, cumulative=True, color='b')"
      ],
      "execution_count": 0,
      "outputs": [
        {
          "output_type": "execute_result",
          "data": {
            "text/plain": [
              "(array([ 17.,  53., 113., 158., 181., 194., 197., 200., 201., 202.]),\n",
              " array([ 793. , 1380.7, 1968.4, 2556.1, 3143.8, 3731.5, 4319.2, 4906.9,\n",
              "        5494.6, 6082.3, 6670. ]),\n",
              " <a list of 10 Patch objects>)"
            ]
          },
          "metadata": {
            "tags": []
          },
          "execution_count": 12
        },
        {
          "output_type": "display_data",
          "data": {
            "image/png": "[encoded data removed]",
            "text/plain": [
              "<Figure size 576x396 with 1 Axes>"
            ]
          },
          "metadata": {
            "tags": []
          }
        }
      ]
    },
    {
      "metadata": {
        "id": "S4ag7fBnxTbo",
        "colab_type": "code",
        "outputId": "5b90aca9-5e39-46db-95c0-14892f4a7c14",
        "colab": {
          "base_uri": "https://localhost:8080/",
          "height": 34
        }
      },
      "cell_type": "code",
      "source": [
        "if len(tokenizer.word_index) < MAX_WORDS:\n",
        "  MAX_WORDS = len(tokenizer.word_index)\n",
        "  print(MAX_WORDS)"
      ],
      "execution_count": 0,
      "outputs": [
        {
          "output_type": "stream",
          "text": [
            "4348\n"
          ],
          "name": "stdout"
        }
      ]
    },
    {
      "metadata": {
        "colab_type": "code",
        "id": "bNyihoeLqM2h",
        "outputId": "27f9b45e-dee6-43d7-ee3a-4260e64e8b62",
        "colab": {
          "base_uri": "https://localhost:8080/",
          "height": 34
        }
      },
      "cell_type": "code",
      "source": [
        "print(max_length)\n",
        "# Thus, we initialize the maximum word length as\n",
        "for p in network_parameters:\n",
        "  p[\"max_length\"] = max_length"
      ],
      "execution_count": 0,
      "outputs": [
        {
          "output_type": "stream",
          "text": [
            "2336\n"
          ],
          "name": "stdout"
        }
      ]
    },
    {
      "metadata": {
        "colab_type": "text",
        "id": "t_XzzFpUqM2o"
      },
      "cell_type": "markdown",
      "source": [
        "# **TensorBoard**\n",
        "TensorBoard is a great tool for DL visualization. It shows the evolution of metrics during the training phase, as well as the weights, distributions, and even the graph of the neural net. \n",
        "\n",
        "We will be using tensorboardcolab in order to run a \n",
        "TensorBoard instance. This will initialize a ngrok machine and launch TensorBoard for us to see. \n",
        "\n",
        "TensorBoard will be accesible by the url "
      ]
    },
    {
      "metadata": {
        "colab_type": "code",
        "id": "Sbcq5gOMqM2p",
        "outputId": "0871c929-2679-4a44-f610-b8bfe3e690e9",
        "colab": {
          "base_uri": "https://localhost:8080/",
          "height": 34
        }
      },
      "cell_type": "code",
      "source": [
        "# We install tensorboard colab in case we don't have it already.\n",
        "!pip install tensorboardcolab"
      ],
      "execution_count": 0,
      "outputs": [
        {
          "output_type": "stream",
          "text": [
            "Requirement already satisfied: tensorboardcolab in /usr/local/lib/python3.6/dist-packages (0.0.22)\n"
          ],
          "name": "stdout"
        }
      ]
    },
    {
      "metadata": {
        "colab_type": "code",
        "id": "79ivurQUqM2t",
        "outputId": "0d763db7-0a59-41f0-91ef-2fb50f1f63e9",
        "colab": {
          "base_uri": "https://localhost:8080/",
          "height": 70
        }
      },
      "cell_type": "code",
      "source": [
        "import tensorboardcolab as tb\n",
        "\n",
        "tbc=tb.TensorBoardColab()"
      ],
      "execution_count": 0,
      "outputs": [
        {
          "output_type": "stream",
          "text": [
            "Wait for 8 seconds...\n",
            "TensorBoard link:\n",
            "https://623ca31c.ngrok.io\n"
          ],
          "name": "stdout"
        }
      ]
    },
    {
      "metadata": {
        "colab_type": "text",
        "id": "Gyam03X6qM2x"
      },
      "cell_type": "markdown",
      "source": [
        "# Load the embeddings\n",
        "\n",
        "In this step, we load the word embeddings from the wikipedia, pubmed and PMC. Then we filter them adapting to the words we have in our dataset. This is, if the word appears in the pubmed we take its weights, which are set to 0 otherwise."
      ]
    },
    {
      "metadata": {
        "colab_type": "code",
        "id": "SJO1m5MwqM2y",
        "outputId": "b69b32a7-e86d-489a-d5f8-a6f4eac98a2a",
        "colab": {
          "base_uri": "https://localhost:8080/",
          "height": 336
        }
      },
      "cell_type": "code",
      "source": [
        "# seemingly gensim is not installed in google colab\n",
        "!pip install gensim"
      ],
      "execution_count": 0,
      "outputs": [
        {
          "output_type": "stream",
          "text": [
            "Requirement already satisfied: gensim in /usr/local/lib/python3.6/dist-packages (3.6.0)\n",
            "Requirement already satisfied: smart-open>=1.2.1 in /usr/local/lib/python3.6/dist-packages (from gensim) (1.8.0)\n",
            "Requirement already satisfied: six>=1.5.0 in /usr/local/lib/python3.6/dist-packages (from gensim) (1.11.0)\n",
            "Requirement already satisfied: scipy>=0.18.1 in /usr/local/lib/python3.6/dist-packages (from gensim) (1.1.0)\n",
            "Requirement already satisfied: numpy>=1.11.3 in /usr/local/lib/python3.6/dist-packages (from gensim) (1.14.6)\n",
            "Requirement already satisfied: boto>=2.32 in /usr/local/lib/python3.6/dist-packages (from smart-open>=1.2.1->gensim) (2.49.0)\n",
            "Requirement already satisfied: bz2file in /usr/local/lib/python3.6/dist-packages (from smart-open>=1.2.1->gensim) (0.98)\n",
            "Requirement already satisfied: requests in /usr/local/lib/python3.6/dist-packages (from smart-open>=1.2.1->gensim) (2.18.4)\n",
            "Requirement already satisfied: boto3 in /usr/local/lib/python3.6/dist-packages (from smart-open>=1.2.1->gensim) (1.9.92)\n",
            "Requirement already satisfied: idna<2.7,>=2.5 in /usr/local/lib/python3.6/dist-packages (from requests->smart-open>=1.2.1->gensim) (2.6)\n",
            "Requirement already satisfied: chardet<3.1.0,>=3.0.2 in /usr/local/lib/python3.6/dist-packages (from requests->smart-open>=1.2.1->gensim) (3.0.4)\n",
            "Requirement already satisfied: urllib3<1.23,>=1.21.1 in /usr/local/lib/python3.6/dist-packages (from requests->smart-open>=1.2.1->gensim) (1.22)\n",
            "Requirement already satisfied: certifi>=2017.4.17 in /usr/local/lib/python3.6/dist-packages (from requests->smart-open>=1.2.1->gensim) (2018.11.29)\n",
            "Requirement already satisfied: s3transfer<0.3.0,>=0.2.0 in /usr/local/lib/python3.6/dist-packages (from boto3->smart-open>=1.2.1->gensim) (0.2.0)\n",
            "Requirement already satisfied: jmespath<1.0.0,>=0.7.1 in /usr/local/lib/python3.6/dist-packages (from boto3->smart-open>=1.2.1->gensim) (0.9.3)\n",
            "Requirement already satisfied: botocore<1.13.0,>=1.12.92 in /usr/local/lib/python3.6/dist-packages (from boto3->smart-open>=1.2.1->gensim) (1.12.92)\n",
            "Requirement already satisfied: python-dateutil<3.0.0,>=2.1; python_version >= \"2.7\" in /usr/local/lib/python3.6/dist-packages (from botocore<1.13.0,>=1.12.92->boto3->smart-open>=1.2.1->gensim) (2.5.3)\n",
            "Requirement already satisfied: docutils>=0.10 in /usr/local/lib/python3.6/dist-packages (from botocore<1.13.0,>=1.12.92->boto3->smart-open>=1.2.1->gensim) (0.14)\n"
          ],
          "name": "stdout"
        }
      ]
    },
    {
      "metadata": {
        "colab_type": "code",
        "id": "zJsmyAUOqM20",
        "colab": {}
      },
      "cell_type": "code",
      "source": [
        "from gensim.models.keyedvectors import KeyedVectors\n",
        "\n",
        "PATH_W2V = SST_HOME + \"DL/w2v/wikipedia-pubmed-and-PMC-w2v.bin\"\n",
        "PATH_W2V = SST_HOME + \"DL/w2v/svd_300.txt\"\n",
        "# PATH_W2V = SST_HOME + \"DL/w2v/IDX_IPR_C_N_L_month_ALL_MEMBERS_fold1_s300_w20_ss5_hs_thr12.txt\"\n",
        "# PATH_W2V = SST_HOME + \"DL/w2v/DeVine_etal_200.txt\"\n",
        "\n",
        "PATH_CUID = SST_HOME + \"DL/w2v/CUID/2b_concept_ID_to_CUI.txt\"\n",
        "PATH_STRD = SST_HOME + \"DL/w2v/CUID/2a_concept_ID_to_string.txt\""
      ],
      "execution_count": 0,
      "outputs": []
    },
    {
      "metadata": {
        "id": "YJdcpbm7_tMh",
        "colab_type": "code",
        "outputId": "0cd529aa-1724-4e86-f4db-856042b7a2f6",
        "colab": {
          "base_uri": "https://localhost:8080/",
          "height": 34
        }
      },
      "cell_type": "code",
      "source": [
        "from os import listdir\n",
        "print(listdir(SST_HOME + \"DL/w2v\"))"
      ],
      "execution_count": 0,
      "outputs": [
        {
          "output_type": "stream",
          "text": [
            "['wikipedia-pubmed-and-PMC-w2v.bin', 'DeVine_etal_200.txt', 'svd_300.txt', 'CUID', 'IDX_IPR_C_N_L_month_ALL_MEMBERS_fold1_s300_w20_ss5_hs_thr12.txt']\n"
          ],
          "name": "stdout"
        }
      ]
    },
    {
      "metadata": {
        "colab_type": "code",
        "id": "81mK3tCEqM22",
        "colab": {}
      },
      "cell_type": "code",
      "source": [
        "def text_to_dict(path, reverse=False):\n",
        "  d = {}\n",
        "  with open(path, encoding='latin-1') as f:\n",
        "      for line in f:\n",
        "        if reverse:\n",
        "          val = line.split()[0]\n",
        "          key = \"\".join(line.split()[1:])\n",
        "        else:\n",
        "          key = line.split()[0]\n",
        "          val = \"\".join(line.split()[1:])\n",
        "          \n",
        "        d[key] = val\n",
        "  return d\n",
        "        \n",
        "def load_W2V_model(path):\n",
        "    model = KeyedVectors.load_word2vec_format(path, binary=True if path[-3:]==\"bin\" else False)\n",
        "    print(\"Loaded W2V model\")\n",
        "    return model\n",
        "  \n",
        "def generate_embedding_weigths(word_index, max_words, model, binary=False):\n",
        "  embedding_matrix = np.zeros((max_words, model.vector_size), dtype=np.float32)\n",
        "  d_cuid = text_to_dict(PATH_CUID)\n",
        "  d_str = text_to_dict(PATH_STRD, reverse=True)\n",
        "  hit = 0\n",
        "  for word, i in word_index.items():\n",
        "    if i >= max_words:\n",
        "        break\n",
        "    if not binary:\n",
        "      try:\n",
        "        word = d_cuid[d_str[word]]  # Un-comment if using CUIDS\n",
        "        # word =  d_str[word]  # Un-comment if using concept ids\n",
        "      except KeyError:\n",
        "        continue\n",
        "    if word in model:\n",
        "        # words not found in embedding index will be all-zeros.\n",
        "        embedding_matrix[i] = model[word]\n",
        "        hit += 1\n",
        "  print(\"Hits: {}\\nTotal: {}\".format(hit, i))\n",
        "\n",
        "  return embedding_matrix"
      ],
      "execution_count": 0,
      "outputs": []
    },
    {
      "metadata": {
        "colab_type": "code",
        "id": "6qPp111eqM26",
        "outputId": "924d1058-2b69-460b-bf75-f7778ec28b99",
        "colab": {
          "base_uri": "https://localhost:8080/",
          "height": 70
        }
      },
      "cell_type": "code",
      "source": [
        "if any([p[\"load_embeddings\"] for p in network_parameters]):\n",
        "  if not 'model' in locals():\n",
        "    model = load_W2V_model(PATH_W2V)\n",
        "  # Generate the weights matrix\n",
        "  embedding_matrix = generate_embedding_weigths(tokenizer.word_index, MAX_WORDS, model)\n",
        "  for p in network_parameters:\n",
        "    if p[\"load_embeddings\"]: \n",
        "      p[\"embeddings_size\"] = model.vector_size\n",
        "      p[\"embedding_matrix\"] = embedding_matrix\n",
        "    else:\n",
        "      p[\"embedding_matrix\"] = None\n",
        "      \n",
        "else:\n",
        "  for p in network_parameters:\n",
        "    p[\"embedding_matrix\"] = None"
      ],
      "execution_count": 0,
      "outputs": [
        {
          "output_type": "stream",
          "text": [
            "Loaded W2V model\n",
            "Hits: 0\n",
            "Total: 4348\n"
          ],
          "name": "stdout"
        }
      ]
    },
    {
      "metadata": {
        "id": "TOc6GfiVtFVh",
        "colab_type": "text"
      },
      "cell_type": "markdown",
      "source": [
        "**Create a keras Embedding model**\n",
        "\n",
        "In this section we will create a Keras RNN model, compile, and train it.\n",
        "\n",
        "In this model we can decide to generate the different embeddings for the words by using a pre-trained embeddings as the wikipedia ones for example.\n",
        "\n",
        "Some information about the architecture of the net is shown bellow. "
      ]
    },
    {
      "metadata": {
        "id": "vVaH2QqctjPJ",
        "colab_type": "code",
        "colab": {}
      },
      "cell_type": "code",
      "source": [
        "import keras\n",
        "from keras import backend as K\n",
        "from keras.models import Model\n",
        "from keras.layers import Dense, Activation, Embedding, Dropout, Input\n",
        "from keras.layers import Lambda, Flatten, RepeatVector, Permute, Multiply\n",
        "from keras.layers import LSTM, GRU, Bidirectional, BatchNormalization\n",
        "\n",
        "from keras.callbacks import ReduceLROnPlateau, EarlyStopping, ModelCheckpoint\n",
        "from keras.losses import binary_crossentropy\n",
        "from keras.optimizers import RMSprop, Adam"
      ],
      "execution_count": 0,
      "outputs": []
    },
    {
      "metadata": {
        "id": "dmQoMtHYsT5s",
        "colab_type": "code",
        "colab": {}
      },
      "cell_type": "code",
      "source": [
        "cell_type = {\"LSTM\": LSTM,\n",
        "             \"GRU\": GRU}\n",
        "\n",
        "for p in network_parameters:\n",
        "  p[\"cell_type\"] = cell_type[p[\"cell_type\"]]"
      ],
      "execution_count": 0,
      "outputs": []
    },
    {
      "metadata": {
        "id": "xvQjbZlBSEUP",
        "colab_type": "code",
        "outputId": "0d69f53c-5dc3-4fe4-f27e-c188edc86244",
        "colab": {
          "base_uri": "https://localhost:8080/",
          "height": 336
        }
      },
      "cell_type": "code",
      "source": [
        "network_parameters"
      ],
      "execution_count": 0,
      "outputs": [
        {
          "output_type": "execute_result",
          "data": {
            "text/plain": [
              "[{'attention': False,\n",
              "  'batch_size': None,\n",
              "  'bidirectional': True,\n",
              "  'cell_type': keras.layers.recurrent.GRU,\n",
              "  'dnn_size': [32],\n",
              "  'dropout': 0.3,\n",
              "  'embedding_matrix': array([[0., 0., 0., ..., 0., 0., 0.],\n",
              "         [0., 0., 0., ..., 0., 0., 0.],\n",
              "         [0., 0., 0., ..., 0., 0., 0.],\n",
              "         ...,\n",
              "         [0., 0., 0., ..., 0., 0., 0.],\n",
              "         [0., 0., 0., ..., 0., 0., 0.],\n",
              "         [0., 0., 0., ..., 0., 0., 0.]], dtype=float32),\n",
              "  'embeddings_size': 300,\n",
              "  'load_embeddings': True,\n",
              "  'max_length': 2336,\n",
              "  'num_classes': 13,\n",
              "  'rnn_size': [64]}]"
            ]
          },
          "metadata": {
            "tags": []
          },
          "execution_count": 24
        }
      ]
    },
    {
      "metadata": {
        "id": "_RChdTccu23y",
        "colab_type": "code",
        "colab": {}
      },
      "cell_type": "code",
      "source": [
        "def add_embeddings(z, load, size, embedding_matrix):\n",
        "  \"\"\"\n",
        "  This method adds embeddings to the network.\n",
        "  \n",
        "  Returns the net with the embeddings added.\n",
        "  \"\"\"\n",
        "  if load:\n",
        "    #TODO\n",
        "    # remove MAX_WORDS and pass it as a parameter\n",
        "    z = Embedding(MAX_WORDS, size, input_length=max_length, weights=[embedding_matrix], trainable=False)(z)\n",
        "  else:\n",
        "    z = Embedding(MAX_WORDS, size, input_length=max_length)(z)\n",
        "    \n",
        "  return z\n",
        "\n",
        "def add_rnn(z, size, bidirectional, cell_type, attention):\n",
        "  \"\"\"\n",
        "  This method adds the RNN layers to the network. It also adds an attention layer if intended.\n",
        "  \n",
        "  Returns the net with the RNN & Attention added.\n",
        "  \"\"\"\n",
        "  for i, rsz in enumerate(size):\n",
        "    if not bidirectional:\n",
        "      if i < len(size) - 1:\n",
        "        z = cell_type(rsz, return_sequences=True)(z)\n",
        "      else:\n",
        "        z = cell_type(rsz, return_sequences=attention)(z)\n",
        "    else:\n",
        "      if i < len(size) - 1:\n",
        "        z = Bidirectional(cell_type(rsz, return_sequences=True))(z)\n",
        "      else:\n",
        "        z = Bidirectional(cell_type(rsz, return_sequences=attention))(z)\n",
        "\n",
        "  if attention:\n",
        "    z = add_attention(z)\n",
        "    \n",
        "  return z\n",
        "\n",
        "def add_dnn(z, size, dropout, activation=\"sigmoid\"):\n",
        "  \"\"\"\n",
        "  This method adds the DNN layers to the network.\n",
        "  \n",
        "  Returns the net with the DNN layers added.\n",
        "  \"\"\"\n",
        "  for fsz in size:\n",
        "    if fsz is None:\n",
        "      return z\n",
        "\n",
        "    z = Dense(fsz, activation=activation)(z)\n",
        "    z = Dropout(dropout)(z)\n",
        "    \n",
        "  return z\n",
        "\n",
        "def add_attention(activations):\n",
        "  \"\"\"\n",
        "  This method adds an attention layer.\n",
        "  \n",
        "  Returns the model with the attention layer.\n",
        "  \"\"\"\n",
        "  \n",
        "  size =  K.int_shape(activations)[-1]\n",
        "  attention = BatchNormalization()(activations)\n",
        "  attention = Dense(1, activation='tanh')(attention)\n",
        "  attention = Flatten()(attention)\n",
        "  attention = Activation('softmax')(attention)\n",
        "  attention = RepeatVector(size)(attention)\n",
        "  attention = Permute([2, 1])(attention)\n",
        "  \n",
        "  z = Multiply()([activations, attention])\n",
        "  z = Lambda(lambda xin: K.sum(xin, axis=-2), output_shape=(size,))(z)\n",
        "\n",
        "  return z"
      ],
      "execution_count": 0,
      "outputs": []
    },
    {
      "metadata": {
        "id": "oXEdPJGZsh_l",
        "colab_type": "code",
        "colab": {}
      },
      "cell_type": "code",
      "source": [
        "def create_model(params):\n",
        "  \"\"\"\n",
        "  This method creates a network model with the parameters given.\n",
        "  \n",
        "  Returns the uncompiled model.\n",
        "  \"\"\"\n",
        "  inputs = Input(name='inputs',shape=(params[\"max_length\"],))\n",
        "  \n",
        "  z = add_embeddings(inputs, params[\"load_embeddings\"], params[\"embeddings_size\"], params[\"embedding_matrix\"])\n",
        "  \n",
        "  z = add_rnn(z, params[\"rnn_size\"], params[\"bidirectional\"], params[\"cell_type\"], params[\"attention\"])\n",
        "  \n",
        "  z = add_dnn(z, params[\"dnn_size\"], params[\"dropout\"])\n",
        "  \n",
        "  outputs = Dense(params[\"num_classes\"], activation='sigmoid', name='output_layer')(z)\n",
        "  \n",
        "  net_model = Model(inputs=inputs,outputs=outputs)\n",
        "  \n",
        "  return net_model"
      ],
      "execution_count": 0,
      "outputs": []
    },
    {
      "metadata": {
        "id": "OICx8yDss53e",
        "colab_type": "code",
        "colab": {}
      },
      "cell_type": "code",
      "source": [
        "def create_models(network_parameters, verbose=False):\n",
        "  model_list = []\n",
        "  for net_p in network_parameters:\n",
        "    m = create_model(net_p)\n",
        "    m.compile(loss='binary_crossentropy', optimizer='rmsprop', metrics=['accuracy'])\n",
        "    model_list.append(m)\n",
        "    \n",
        "    if verbose:\n",
        "      m.summary()  \n",
        "      \n",
        "  return model_list"
      ],
      "execution_count": 0,
      "outputs": []
    },
    {
      "metadata": {
        "id": "iaz6AMV0TnRV",
        "colab_type": "code",
        "outputId": "d3e23cbd-b458-4f00-df97-539903ccd202",
        "colab": {
          "base_uri": "https://localhost:8080/",
          "height": 461
        }
      },
      "cell_type": "code",
      "source": [
        "model_list = create_models(network_parameters, verbose=True)"
      ],
      "execution_count": 0,
      "outputs": [
        {
          "output_type": "stream",
          "text": [
            "WARNING:tensorflow:From /usr/local/lib/python3.6/dist-packages/tensorflow/python/framework/op_def_library.py:263: colocate_with (from tensorflow.python.framework.ops) is deprecated and will be removed in a future version.\n",
            "Instructions for updating:\n",
            "Colocations handled automatically by placer.\n",
            "WARNING:tensorflow:From /usr/local/lib/python3.6/dist-packages/keras/backend/tensorflow_backend.py:3445: calling dropout (from tensorflow.python.ops.nn_ops) with keep_prob is deprecated and will be removed in a future version.\n",
            "Instructions for updating:\n",
            "Please use `rate` instead of `keep_prob`. Rate should be set to `rate = 1 - keep_prob`.\n",
            "_________________________________________________________________\n",
            "Layer (type)                 Output Shape              Param #   \n",
            "=================================================================\n",
            "inputs (InputLayer)          (None, 2336)              0         \n",
            "_________________________________________________________________\n",
            "embedding_1 (Embedding)      (None, 2336, 300)         1304400   \n",
            "_________________________________________________________________\n",
            "bidirectional_1 (Bidirection (None, 128)               140160    \n",
            "_________________________________________________________________\n",
            "dense_1 (Dense)              (None, 32)                4128      \n",
            "_________________________________________________________________\n",
            "dropout_1 (Dropout)          (None, 32)                0         \n",
            "_________________________________________________________________\n",
            "output_layer (Dense)         (None, 13)                429       \n",
            "=================================================================\n",
            "Total params: 1,449,117\n",
            "Trainable params: 144,717\n",
            "Non-trainable params: 1,304,400\n",
            "_________________________________________________________________\n"
          ],
          "name": "stdout"
        }
      ]
    },
    {
      "metadata": {
        "id": "1k_1Ff-iwRbV",
        "colab_type": "text"
      },
      "cell_type": "markdown",
      "source": [
        "# TB Colab Callback\n",
        "We rewrite the tensorboardcolab callbacks to create different sessions depending on the variables our trainings have. This helps to differentiate the models in tensorboard."
      ]
    },
    {
      "metadata": {
        "id": "3jsRRzrFv1NH",
        "colab_type": "code",
        "colab": {}
      },
      "cell_type": "code",
      "source": [
        "import os\n",
        "from keras.callbacks import TensorBoard\n",
        "import tensorflow as tf\n",
        "\n",
        "class TensorBoardColabCallback(TensorBoard):\n",
        "    def __init__(self, tbc=None, write_graph=True, name=None, **kwargs):\n",
        "        # Make the original `TensorBoard` log to a subdirectory 'training'\n",
        "\n",
        "        if tbc is None:\n",
        "            return\n",
        "\n",
        "        log_dir = tbc.get_graph_path()\n",
        "\n",
        "        training_log_dir = os.path.join(log_dir, 'training_{}'.format(name))\n",
        "        super(TensorBoardColabCallback, self).__init__(training_log_dir, **kwargs)\n",
        "\n",
        "        # Log the validation metrics to a separate subdirectory\n",
        "        self.val_log_dir = os.path.join(log_dir, 'validation_{}'.format(name))\n",
        "\n",
        "    def set_model(self, model):\n",
        "        # Setup writer for validation metrics\n",
        "        self.val_writer = tf.summary.FileWriter(self.val_log_dir)\n",
        "        super(TensorBoardColabCallback, self).set_model(model)\n",
        "\n",
        "    def on_epoch_end(self, epoch, logs=None):\n",
        "        # Pop the validation logs and handle them separately with\n",
        "        # `self.val_writer`. Also rename the keys so that they can\n",
        "        # be plotted on the same figure with the training metrics\n",
        "        logs = logs or {}\n",
        "        val_logs = {k.replace('val_', ''): v for k, v in logs.items() if k.startswith('val_')}\n",
        "\n",
        "        for name, value in val_logs.items():\n",
        "            # print('val_logs:',epoch, name, value)\n",
        "            summary = tf.Summary()\n",
        "            summary_value = summary.value.add()\n",
        "            summary_value.simple_value = value.item()\n",
        "            summary_value.tag = name\n",
        "            self.val_writer.add_summary(summary, epoch)\n",
        "        self.val_writer.flush()\n",
        "\n",
        "        # Pass the remaining logs to `TensorBoard.on_epoch_end`\n",
        "        logs = {k: v for k, v in logs.items() if not k.startswith('val_')}\n",
        "        super(TensorBoardColabCallback, self).on_epoch_end(epoch, logs)\n",
        "        \n",
        "    def on_train_end(self, logs=None):\n",
        "        super(TensorBoardColabCallback, self).on_train_end(logs)\n",
        "        self.val_writer.close()\n",
        "\n",
        "tb.TensorBoardColabCallback = TensorBoardColabCallback"
      ],
      "execution_count": 0,
      "outputs": []
    },
    {
      "metadata": {
        "id": "hd7YRWvKvXAj",
        "colab_type": "code",
        "colab": {}
      },
      "cell_type": "code",
      "source": [
        "def define_callbacks(name):\n",
        "  # Define the callbacks\n",
        "  tbc_callback = tb.TensorBoardColabCallback(tbc, name=name) # , histogram_freq=1)\n",
        "   \n",
        "  callbacks = [\n",
        "      ReduceLROnPlateau(),\n",
        "      EarlyStopping(patience=3),\n",
        "      tbc_callback\n",
        "  ]\n",
        "  return callbacks"
      ],
      "execution_count": 0,
      "outputs": []
    },
    {
      "metadata": {
        "id": "C5g5kvMmJgl3",
        "colab_type": "code",
        "colab": {}
      },
      "cell_type": "code",
      "source": [
        "# Create an array of names\n",
        "network_names = []\n",
        "for p in network_parameters:\n",
        "  name = \"tfid_load_embeddings_{}_num_classes_{}_embeddings_size_{}_rnn_size_{}_cell_type_{}_bidirectional_{}_attention_{}_dropout_{}_dnn_size_{}_batch_size_{}\".format(\n",
        "      p[\"load_embeddings\"], p[\"num_classes\"], p[\"embeddings_size\"], p[\"rnn_size\"], \n",
        "      str(p[\"cell_type\"]).split(\".\")[-1].replace(\"'\", \"\").replace(\">\", \"\"), p[\"bidirectional\"],\n",
        "      p[\"attention\"], p[\"dropout\"], p[\"dnn_size\"], p[\"batch_size\"])\n",
        "  name = name.replace(\" \", \"\").replace(\"[\", \"\").replace(\"]\", \"\").replace(\",\", \"-\")\n",
        "  network_names.append(name)"
      ],
      "execution_count": 0,
      "outputs": []
    },
    {
      "metadata": {
        "id": "rQypOjW-Jz6v",
        "colab_type": "code",
        "outputId": "78e1608d-c075-4aea-e729-1441086060a7",
        "colab": {
          "base_uri": "https://localhost:8080/",
          "height": 816
        }
      },
      "cell_type": "code",
      "source": [
        "from keras.models import load_model\n",
        "for i, net_model in enumerate(model_list):\n",
        "  # Set a name for the model based on the tweaked parameters\n",
        "  p = network_parameters[i]\n",
        "  name = network_names[i]\n",
        "  model_path = SST_HOME+\"DL/models/\" + name\n",
        "\n",
        "  # If the model exists, don't compute it again.\n",
        "  # if os.path.isfile(model_path):\n",
        "  #   continue\n",
        "    \n",
        "  print(\"\\n\\n********************************************\\n\")    \n",
        "  print(name)\n",
        "  callbacks = define_callbacks(name)\n",
        "  # Fit the model and extract its data\n",
        "  history = net_model.fit(train_x_token, train_y, epochs=30, batch_size=network_parameters[i][\"batch_size\"], \n",
        "                          class_weight=class_weight, callbacks=callbacks,\n",
        "                          validation_split=0.25)\n",
        "      \n",
        "  # And save the model\n",
        "  net_model.save(model_path)\n",
        "  \n",
        "# To free memory from the gpu\n",
        "from keras import backend as K\n",
        "K.clear_session()"
      ],
      "execution_count": 0,
      "outputs": [
        {
          "output_type": "stream",
          "text": [
            "\n",
            "\n",
            "********************************************\n",
            "\n",
            "tfid_load_embeddings_True_num_classes_13_embeddings_size_300_rnn_size_64_cell_type_GRU_bidirectional_True_attention_False_dropout_0.3_dnn_size_32_batch_size_None\n",
            "WARNING:tensorflow:From /usr/local/lib/python3.6/dist-packages/tensorflow/python/ops/math_ops.py:3066: to_int32 (from tensorflow.python.ops.math_ops) is deprecated and will be removed in a future version.\n",
            "Instructions for updating:\n",
            "Use tf.cast instead.\n",
            "Train on 151 samples, validate on 51 samples\n",
            "Epoch 1/30\n",
            "151/151 [==============================] - 43s 282ms/step - loss: 0.7461 - acc: 0.4738 - val_loss: 0.6891 - val_acc: 0.4555\n",
            "Epoch 2/30\n",
            "151/151 [==============================] - 42s 279ms/step - loss: 0.6880 - acc: 0.5487 - val_loss: 0.5502 - val_acc: 0.7315\n",
            "Epoch 3/30\n",
            "151/151 [==============================] - 42s 280ms/step - loss: 0.5509 - acc: 0.7096 - val_loss: 0.5057 - val_acc: 0.7300\n",
            "Epoch 4/30\n",
            "151/151 [==============================] - 42s 279ms/step - loss: 0.5261 - acc: 0.7269 - val_loss: 0.4961 - val_acc: 0.7511\n",
            "Epoch 5/30\n",
            "151/151 [==============================] - 41s 275ms/step - loss: 0.5166 - acc: 0.7331 - val_loss: 0.4872 - val_acc: 0.7722\n",
            "Epoch 6/30\n",
            "151/151 [==============================] - 42s 280ms/step - loss: 0.5101 - acc: 0.7371 - val_loss: 0.4804 - val_acc: 0.7722\n",
            "Epoch 7/30\n",
            "151/151 [==============================] - 41s 275ms/step - loss: 0.4995 - acc: 0.7412 - val_loss: 0.4750 - val_acc: 0.7738\n",
            "Epoch 8/30\n",
            "151/151 [==============================] - 42s 279ms/step - loss: 0.4960 - acc: 0.7580 - val_loss: 0.4692 - val_acc: 0.7738\n",
            "Epoch 9/30\n",
            "151/151 [==============================] - 42s 280ms/step - loss: 0.4970 - acc: 0.7514 - val_loss: 0.4656 - val_acc: 0.7738\n",
            "Epoch 10/30\n",
            "151/151 [==============================] - 42s 276ms/step - loss: 0.4909 - acc: 0.7570 - val_loss: 0.4610 - val_acc: 0.7738\n",
            "Epoch 11/30\n",
            "151/151 [==============================] - 42s 275ms/step - loss: 0.4799 - acc: 0.7545 - val_loss: 0.4569 - val_acc: 0.7738\n",
            "Epoch 12/30\n",
            "151/151 [==============================] - 42s 279ms/step - loss: 0.4909 - acc: 0.7397 - val_loss: 0.4538 - val_acc: 0.7738\n",
            "Epoch 13/30\n",
            "151/151 [==============================] - 42s 278ms/step - loss: 0.4823 - acc: 0.7514 - val_loss: 0.4508 - val_acc: 0.7738\n",
            "Epoch 14/30\n",
            "151/151 [==============================] - 41s 272ms/step - loss: 0.4825 - acc: 0.7545 - val_loss: 0.4485 - val_acc: 0.7738\n",
            "Epoch 15/30\n",
            "151/151 [==============================] - 43s 283ms/step - loss: 0.4803 - acc: 0.7621 - val_loss: 0.4461 - val_acc: 0.7738\n",
            "Epoch 16/30\n",
            "151/151 [==============================] - 43s 284ms/step - loss: 0.4696 - acc: 0.7575 - val_loss: 0.4439 - val_acc: 0.7738\n",
            "Epoch 17/30\n",
            "151/151 [==============================] - 42s 279ms/step - loss: 0.4635 - acc: 0.7682 - val_loss: 0.4424 - val_acc: 0.7738\n",
            "Epoch 18/30\n",
            " 64/151 [===========>..................] - ETA: 20s - loss: 0.4515 - acc: 0.7704"
          ],
          "name": "stdout"
        }
      ]
    },
    {
      "metadata": {
        "id": "7-Lz0JL11nmX",
        "colab_type": "text"
      },
      "cell_type": "markdown",
      "source": [
        "# SKLearn Predictions"
      ]
    },
    {
      "metadata": {
        "id": "8Lxy8qKkwD-1",
        "colab_type": "code",
        "colab": {}
      },
      "cell_type": "code",
      "source": [
        "from sklearn.metrics import classification_report\n",
        "predictions_list = []\n",
        "for i, net_model in enumerate(model_list):\n",
        "  print(\"\\n\\n********************************************\\n\")\n",
        "  print(network_names[i])\n",
        "  model_path = SST_HOME+\"DL/models/\" + network_names[i]\n",
        "  try:\n",
        "    net_model = load_model(model_path)\n",
        "  except ValueError:\n",
        "    print(\"The model {} was not loaded correctly\".format(name))\n",
        "    continue\n",
        "    \n",
        "  predictions = net_model.predict(test_x_token)\n",
        "  predictions = np.array([[0 if value < 0.5 else 1 for value in prediction] for prediction in predictions])\n",
        "  predictions_list.append(predictions)\n",
        "  # measuring performance on test set\n",
        "  cr=classification_report(test_y, predictions, target_names=CATEGORIES.values)\n",
        "  print(cr)\n",
        "\n",
        "  # Release memory\n",
        "  K.clear_session()\n"
      ],
      "execution_count": 0,
      "outputs": []
    },
    {
      "metadata": {
        "colab_type": "text",
        "id": "1cCd5xkYqM3d"
      },
      "cell_type": "markdown",
      "source": [
        "\n",
        "\n",
        "#**Generating output in XML format**\n",
        "\n"
      ]
    },
    {
      "metadata": {
        "colab_type": "code",
        "id": "UPDeSPwfqM3e",
        "colab": {}
      },
      "cell_type": "code",
      "source": [
        "import xml.etree.ElementTree\n",
        "import os\n",
        "NOT='not met'\n",
        "MET='met'\n",
        "\n",
        "#gets a idFile, a dictionary with the predictions (category, label) and the name of the classifier used.\n",
        "def outputToXML(idFile, dictPred, classifier):\n",
        "    \n",
        "    path=SST_HOME+'data/test/xml/'+idFile+'.xml'\n",
        "    output_dir = SST_HOME+'data/output/'+classifier\n",
        "    \n",
        "    output = output_dir+'/'+idFile+'.xml'\n",
        "\n",
        "    if not os.path.exists(output_dir):\n",
        "      print(\"\\n\\nmaking dir\")\n",
        "      s = os.makedirs(output_dir)\n",
        "      print(output_dir)\n",
        "      print(s)      \n",
        "   \n",
        "    et = xml.etree.ElementTree.parse(path)\n",
        "\n",
        "    new_tag = xml.etree.ElementTree.SubElement(et.getroot(), 'TAGS')\n",
        "    \n",
        "    for cat in dictPred.keys():\n",
        "        element = xml.etree.ElementTree.SubElement(new_tag, cat)    \n",
        "        if dictPred[cat]==0:\n",
        "            element.attrib['met'] = NOT \n",
        "        else:\n",
        "            element.attrib['met'] = MET\n",
        "\n",
        "    et.write(output)\n",
        "\n",
        "#function for creating a dictionary with the categories with values 0 or 1\n",
        "def iniDictPred(labels, categories):\n",
        "    \n",
        "    if len(labels)!=len(categories):\n",
        "        print('Warning!!!')\n",
        "        return None\n",
        "    \n",
        "    dictPred={}\n",
        "    i=0\n",
        "    \n",
        "    for x in categories:\n",
        "        dictPred[x]=labels[i]\n",
        "        i=i+1\n",
        "    return dictPred"
      ],
      "execution_count": 0,
      "outputs": []
    },
    {
      "metadata": {
        "colab_type": "code",
        "id": "3Ua3D6lQqM3f",
        "colab": {}
      },
      "cell_type": "code",
      "source": [
        "#creates the output xml files per training\n",
        "\n",
        "for i, predictions in enumerate(predictions_list):\n",
        "  dictionary = zip(IDFILES, predictions)\n",
        "  for obj in dictionary:\n",
        "      idFile=str(obj[0][0])\n",
        "      labels=obj[1] #gets their predictions for this file\n",
        "      dictPred=iniDictPred(labels, CATEGORIES) #creates a dictionary to join categories and labels 0,1\n",
        "      outputToXML(idFile,dictPred,\"RNN/{}\".format(network_names[i]))\n",
        "\n",
        "  print('output xml files were generated!')"
      ],
      "execution_count": 0,
      "outputs": []
    },
    {
      "metadata": {
        "colab_type": "code",
        "id": "IiigZnfNqM3m",
        "colab": {}
      },
      "cell_type": "code",
      "source": [
        "import subprocess\n",
        "# Writes the output in a file for each training.\n",
        "for i, name in enumerate(network_names):\n",
        "  print(name) \n",
        "  path = \"data/output/RNN/\"\n",
        "  n = path + \"{}\".format(name)\n",
        "  os.system('cd \"{}\" && echo \"{}\" {} {}results.txt'.format(SST_HOME, name, \">\" if i == 0 else \">>\", path))\n",
        "  os.system('cd \"{}\" && python3 track1_eval.py data/test/gold {} >> {}results.txt'.format(SST_HOME, n, path))"
      ],
      "execution_count": 0,
      "outputs": []
    },
    {
      "metadata": {
        "id": "iyaCbNQri1Ri",
        "colab_type": "code",
        "colab": {}
      },
      "cell_type": "code",
      "source": [
        ""
      ],
      "execution_count": 0,
      "outputs": []
    }
  ]
}